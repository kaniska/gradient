{
 "cells": [
  {
   "cell_type": "code",
   "execution_count": 2,
   "id": "35a3fa4d",
   "metadata": {},
   "outputs": [],
   "source": [
    "import pyTigerGraph as tg\n",
    "import pandas as pd\n"
   ]
  },
  {
   "cell_type": "code",
   "execution_count": 203,
   "id": "2da74f8d",
   "metadata": {},
   "outputs": [],
   "source": [
    " pd.options.display.max_colwidth = None"
   ]
  },
  {
   "cell_type": "markdown",
   "id": "c854a4eb",
   "metadata": {},
   "source": [
    "## Load & Format Data"
   ]
  },
  {
   "cell_type": "markdown",
   "id": "c253b32f",
   "metadata": {},
   "source": [
    "# Stanford BioSnap Datasets"
   ]
  },
  {
   "cell_type": "markdown",
   "id": "88d2a5b5",
   "metadata": {},
   "source": [
    "## Disease-drug relations"
   ]
  },
  {
   "cell_type": "code",
   "execution_count": 268,
   "id": "a27b47f3",
   "metadata": {},
   "outputs": [],
   "source": [
    "data_dir = '../core/dataset'\n",
    "\n",
    "disease_drug_file = f'{data_dir}/input/DCh-Miner_miner-disease-chemical.tsv'\n",
    "disease_drug_df = pd.read_csv(disease_drug_file, sep='\\t')\n",
    "# Rename columns\n",
    "disease_drug_df.rename(columns={'# Disease(MESH)': 'Disease Mesh ID'}, inplace=True)"
   ]
  },
  {
   "cell_type": "markdown",
   "id": "6a9b487c",
   "metadata": {},
   "source": [
    "### Drug attribute information"
   ]
  },
  {
   "cell_type": "code",
   "execution_count": 273,
   "id": "9232a564",
   "metadata": {
    "scrolled": false
   },
   "outputs": [],
   "source": [
    "drug_info_file = f'{data_dir}/input/drugbank vocabulary.csv'\n",
    "drug_info_df = pd.read_csv(drug_info_file, usecols=['DrugBank ID', 'Common name', 'Synonyms'])\n",
    "#drug_info_df.fillna('', inplace=True)"
   ]
  },
  {
   "cell_type": "markdown",
   "id": "087afe5b",
   "metadata": {},
   "source": [
    "### Extract entity-name mappings (Drug)"
   ]
  },
  {
   "cell_type": "code",
   "execution_count": 306,
   "id": "64f69fba",
   "metadata": {},
   "outputs": [
    {
     "data": {
      "text/html": [
       "<div>\n",
       "<style scoped>\n",
       "    .dataframe tbody tr th:only-of-type {\n",
       "        vertical-align: middle;\n",
       "    }\n",
       "\n",
       "    .dataframe tbody tr th {\n",
       "        vertical-align: top;\n",
       "    }\n",
       "\n",
       "    .dataframe thead th {\n",
       "        text-align: right;\n",
       "    }\n",
       "</style>\n",
       "<table border=\"1\" class=\"dataframe\">\n",
       "  <thead>\n",
       "    <tr style=\"text-align: right;\">\n",
       "      <th></th>\n",
       "      <th>DrugBank ID</th>\n",
       "      <th>Name</th>\n",
       "      <th>isCommon</th>\n",
       "    </tr>\n",
       "  </thead>\n",
       "  <tbody>\n",
       "    <tr>\n",
       "      <th>0</th>\n",
       "      <td>DB00001</td>\n",
       "      <td>Lepirudin</td>\n",
       "      <td>True</td>\n",
       "    </tr>\n",
       "    <tr>\n",
       "      <th>1</th>\n",
       "      <td>DB00002</td>\n",
       "      <td>Cetuximab</td>\n",
       "      <td>True</td>\n",
       "    </tr>\n",
       "    <tr>\n",
       "      <th>2</th>\n",
       "      <td>DB00003</td>\n",
       "      <td>Dornase alfa</td>\n",
       "      <td>True</td>\n",
       "    </tr>\n",
       "    <tr>\n",
       "      <th>3</th>\n",
       "      <td>DB00004</td>\n",
       "      <td>Denileukin diftitox</td>\n",
       "      <td>True</td>\n",
       "    </tr>\n",
       "    <tr>\n",
       "      <th>4</th>\n",
       "      <td>DB00005</td>\n",
       "      <td>Etanercept</td>\n",
       "      <td>True</td>\n",
       "    </tr>\n",
       "    <tr>\n",
       "      <th>...</th>\n",
       "      <td>...</td>\n",
       "      <td>...</td>\n",
       "      <td>...</td>\n",
       "    </tr>\n",
       "    <tr>\n",
       "      <th>14583</th>\n",
       "      <td>DB16736</td>\n",
       "      <td>Allogenic thymocyte-depleted thymus tissue-agdc</td>\n",
       "      <td>False</td>\n",
       "    </tr>\n",
       "    <tr>\n",
       "      <th>14584</th>\n",
       "      <td>DB16737</td>\n",
       "      <td>Ac-GQFR-kbt</td>\n",
       "      <td>False</td>\n",
       "    </tr>\n",
       "    <tr>\n",
       "      <th>14588</th>\n",
       "      <td>DB16741</td>\n",
       "      <td>Bortezomib D-mannitol ester</td>\n",
       "      <td>False</td>\n",
       "    </tr>\n",
       "    <tr>\n",
       "      <th>14588</th>\n",
       "      <td>DB16741</td>\n",
       "      <td>Bortezomib D-mannitol symmetrical ester</td>\n",
       "      <td>False</td>\n",
       "    </tr>\n",
       "    <tr>\n",
       "      <th>14588</th>\n",
       "      <td>DB16741</td>\n",
       "      <td>Bortezomib mannitol boronic ester</td>\n",
       "      <td>False</td>\n",
       "    </tr>\n",
       "  </tbody>\n",
       "</table>\n",
       "<p>42016 rows × 3 columns</p>\n",
       "</div>"
      ],
      "text/plain": [
       "      DrugBank ID                                             Name  isCommon\n",
       "0         DB00001                                        Lepirudin      True\n",
       "1         DB00002                                        Cetuximab      True\n",
       "2         DB00003                                     Dornase alfa      True\n",
       "3         DB00004                              Denileukin diftitox      True\n",
       "4         DB00005                                       Etanercept      True\n",
       "...           ...                                              ...       ...\n",
       "14583     DB16736  Allogenic thymocyte-depleted thymus tissue-agdc     False\n",
       "14584     DB16737                                      Ac-GQFR-kbt     False\n",
       "14588     DB16741                      Bortezomib D-mannitol ester     False\n",
       "14588     DB16741          Bortezomib D-mannitol symmetrical ester     False\n",
       "14588     DB16741                Bortezomib mannitol boronic ester     False\n",
       "\n",
       "[42016 rows x 3 columns]"
      ]
     },
     "execution_count": 306,
     "metadata": {},
     "output_type": "execute_result"
    }
   ],
   "source": [
    "# Series of common names\n",
    "drug_com_df = drug_info_df[['DrugBank ID', 'Common name']].rename(columns={'Common name': 'Name'})\n",
    "drug_com_df = drug_com_df[drug_com_df['Name'].notna()]\n",
    "drug_com_df['Name'] = drug_com_df['Name'].str.strip()\n",
    "drug_com_df['isCommon'] = True\n",
    "\n",
    "# ' | ' delimited str of other names for the drug\n",
    "drug_syn_df = drug_info_df[['DrugBank ID', 'Synonyms']].rename(columns={'Synonyms': 'Name'})\n",
    "drug_syn_df['Name'] = drug_syn_df['Name'].str.split(\"\\|\")\n",
    "\n",
    "# Explode the list of other names (excluding common names)\n",
    "drug_syn_expl_df = drug_syn_df.explode('Name')\n",
    "drug_syn_expl_df['Name'] = drug_syn_expl_df['Name'].str.strip()\n",
    "drug_syn_expl_df = drug_syn_expl_df[~drug_syn_expl_df['Name'].isin(drug_com_df['Name'])]\n",
    "drug_syn_expl_df = drug_syn_expl_df[drug_syn_expl_df['Name'].notna()]\n",
    "drug_syn_expl_df['isCommon'] = False\n",
    "\n",
    "drug_all_names_df = pd.concat((drug_com_df, drug_syn_expl_df))\n",
    "\n",
    "drug_all_names_df"
   ]
  },
  {
   "cell_type": "markdown",
   "id": "0e0f8ac8",
   "metadata": {},
   "source": [
    "## Disease Info"
   ]
  },
  {
   "cell_type": "code",
   "execution_count": 288,
   "id": "dcd21da0",
   "metadata": {
    "scrolled": false
   },
   "outputs": [],
   "source": [
    "disease_info_file = f'{data_dir}/input/D-MeshMiner_miner-disease.tsv'\n",
    "disease_info_df = pd.read_csv(disease_info_file, sep='\\t')\n",
    "disease_info_df.rename(columns={'# MESH_ID': 'Disease Mesh ID', 'Definitions': 'Description'}, inplace=True)\n",
    "disease_info_df['Description'].fillna('', inplace=True)\n"
   ]
  },
  {
   "cell_type": "code",
   "execution_count": 318,
   "id": "633a6b31",
   "metadata": {},
   "outputs": [
    {
     "data": {
      "text/plain": [
       "Disease Mesh ID       0\n",
       "Name                  0\n",
       "Description           0\n",
       "Synonyms           2166\n",
       "dtype: int64"
      ]
     },
     "execution_count": 318,
     "metadata": {},
     "output_type": "execute_result"
    }
   ],
   "source": [
    "disease_info_df.isna().sum(axis=0)"
   ]
  },
  {
   "cell_type": "markdown",
   "id": "35ae59b7",
   "metadata": {},
   "source": [
    "### Extract entity-name mappings (Disease)"
   ]
  },
  {
   "cell_type": "code",
   "execution_count": 314,
   "id": "528c07e1",
   "metadata": {
    "scrolled": false
   },
   "outputs": [
    {
     "data": {
      "text/html": [
       "<div>\n",
       "<style scoped>\n",
       "    .dataframe tbody tr th:only-of-type {\n",
       "        vertical-align: middle;\n",
       "    }\n",
       "\n",
       "    .dataframe tbody tr th {\n",
       "        vertical-align: top;\n",
       "    }\n",
       "\n",
       "    .dataframe thead th {\n",
       "        text-align: right;\n",
       "    }\n",
       "</style>\n",
       "<table border=\"1\" class=\"dataframe\">\n",
       "  <thead>\n",
       "    <tr style=\"text-align: right;\">\n",
       "      <th></th>\n",
       "      <th>Disease Mesh ID</th>\n",
       "      <th>Name</th>\n",
       "      <th>isCommon</th>\n",
       "    </tr>\n",
       "  </thead>\n",
       "  <tbody>\n",
       "    <tr>\n",
       "      <th>0</th>\n",
       "      <td>MESH:C538288</td>\n",
       "      <td>10p Deletion Syndrome (Partial)</td>\n",
       "      <td>True</td>\n",
       "    </tr>\n",
       "    <tr>\n",
       "      <th>1</th>\n",
       "      <td>MESH:C535484</td>\n",
       "      <td>13q deletion syndrome</td>\n",
       "      <td>True</td>\n",
       "    </tr>\n",
       "    <tr>\n",
       "      <th>2</th>\n",
       "      <td>MESH:C579849</td>\n",
       "      <td>15q24 Microdeletion</td>\n",
       "      <td>True</td>\n",
       "    </tr>\n",
       "    <tr>\n",
       "      <th>3</th>\n",
       "      <td>MESH:C579850</td>\n",
       "      <td>16p11.2 Deletion Syndrome</td>\n",
       "      <td>True</td>\n",
       "    </tr>\n",
       "    <tr>\n",
       "      <th>4</th>\n",
       "      <td>MESH:C567076</td>\n",
       "      <td>17,20-Lyase Deficiency, Isolated</td>\n",
       "      <td>True</td>\n",
       "    </tr>\n",
       "    <tr>\n",
       "      <th>...</th>\n",
       "      <td>...</td>\n",
       "      <td>...</td>\n",
       "      <td>...</td>\n",
       "    </tr>\n",
       "    <tr>\n",
       "      <th>11331</th>\n",
       "      <td>MESH:D020096</td>\n",
       "      <td>Entomophthoramycoses</td>\n",
       "      <td>False</td>\n",
       "    </tr>\n",
       "    <tr>\n",
       "      <th>11331</th>\n",
       "      <td>MESH:D020096</td>\n",
       "      <td>Entomophthoramycosis</td>\n",
       "      <td>False</td>\n",
       "    </tr>\n",
       "    <tr>\n",
       "      <th>11331</th>\n",
       "      <td>MESH:D020096</td>\n",
       "      <td>Phycomycoses</td>\n",
       "      <td>False</td>\n",
       "    </tr>\n",
       "    <tr>\n",
       "      <th>11331</th>\n",
       "      <td>MESH:D020096</td>\n",
       "      <td>Phycomycosis</td>\n",
       "      <td>False</td>\n",
       "    </tr>\n",
       "    <tr>\n",
       "      <th>11331</th>\n",
       "      <td>MESH:D020096</td>\n",
       "      <td>Zygomycoses</td>\n",
       "      <td>False</td>\n",
       "    </tr>\n",
       "  </tbody>\n",
       "</table>\n",
       "<p>75952 rows × 3 columns</p>\n",
       "</div>"
      ],
      "text/plain": [
       "      Disease Mesh ID                              Name  isCommon\n",
       "0        MESH:C538288   10p Deletion Syndrome (Partial)      True\n",
       "1        MESH:C535484             13q deletion syndrome      True\n",
       "2        MESH:C579849               15q24 Microdeletion      True\n",
       "3        MESH:C579850         16p11.2 Deletion Syndrome      True\n",
       "4        MESH:C567076  17,20-Lyase Deficiency, Isolated      True\n",
       "...               ...                               ...       ...\n",
       "11331    MESH:D020096              Entomophthoramycoses     False\n",
       "11331    MESH:D020096              Entomophthoramycosis     False\n",
       "11331    MESH:D020096                      Phycomycoses     False\n",
       "11331    MESH:D020096                      Phycomycosis     False\n",
       "11331    MESH:D020096                       Zygomycoses     False\n",
       "\n",
       "[75952 rows x 3 columns]"
      ]
     },
     "execution_count": 314,
     "metadata": {},
     "output_type": "execute_result"
    }
   ],
   "source": [
    "# Series of common names\n",
    "disease_com_df = disease_info_df[['Disease Mesh ID', 'Name']]\n",
    "disease_com_df = disease_com_df[disease_com_df['Name'].notna()]\n",
    "disease_com_df['Name'] = disease_com_df['Name'].str.strip()\n",
    "disease_com_df['isCommon'] = True\n",
    "\n",
    "# '|' delimited str of other names for the disease\n",
    "disease_syn_df = disease_info_df[['Disease Mesh ID', 'Synonyms']].rename(columns={'Synonyms': 'Name'})\n",
    "disease_syn_df['Name'] = disease_syn_df['Name'].str.split(\"\\|\")\n",
    "\n",
    "# Explode the list of other names (excluding common names)\n",
    "disease_syn_expl_df = disease_syn_df.explode('Name')\n",
    "disease_syn_expl_df['Name'] = disease_syn_expl_df['Name'].str.strip()\n",
    "disease_syn_expl_df = disease_syn_expl_df[~disease_syn_expl_df['Name'].isin(disease_com_df['Name'])]\n",
    "disease_syn_expl_df = disease_syn_expl_df[disease_syn_expl_df['Name'].notna()]\n",
    "disease_syn_expl_df['isCommon'] = False\n",
    "\n",
    "disease_all_names_df = pd.concat((disease_com_df, disease_syn_expl_df))\n",
    "disease_all_names_df"
   ]
  },
  {
   "cell_type": "code",
   "execution_count": 309,
   "id": "dbd225f3",
   "metadata": {},
   "outputs": [
    {
     "data": {
      "text/plain": [
       "0                                                                                                              [Chromosome 10, 10p- Partial, Chromosome 10, monosomy 10p, Chromosome 10, Partial Deletion (short arm), Monosomy 10p]\n",
       "1        [Chromosome 13q deletion, Chromosome 13q deletion syndrome, Chromosome 13q monosomy, Chromosome 13q syndrome, Deletion 13q, Deletion 13q syndrome, Monosomy 13q, Monosomy 13q syndrome, Orbeli's syndrome, Orbeli syndrome]\n",
       "2                                                                                                                                          [15q24 Deletion, 15q24 Microdeletion Syndrome, Interstitial Deletion of Chromosome 15q24]\n",
       "3                                                                                                                                                                                                                                NaN\n",
       "4                                                                                                    [17-Alpha-Hydroxylase-17,20-Lyase Deficiency, Combined Complete, 17-Alpha-Hydroxylase-17,20-Lyase Deficiency, Combined Partial]\n",
       "                                                                                                                    ...                                                                                                             \n",
       "11327                                                                                                                                                                                                               [CHIME syndrome]\n",
       "11328                                                                                                                                   [Lactation and squamous metaplasia of lactiferous ducts, Lactiferous fistula, Zuska disease]\n",
       "11329                                                                                                                                                                                                                          [ZD1]\n",
       "11330                                                                                                                                                                [Fractures, Zygomatic, Fracture, Zygomatic, Zygomatic Fracture]\n",
       "11331                                                                                                                                          [Entomophthoramycoses, Entomophthoramycosis, Phycomycoses, Phycomycosis, Zygomycoses]\n",
       "Name: Name, Length: 11332, dtype: object"
      ]
     },
     "execution_count": 309,
     "metadata": {},
     "output_type": "execute_result"
    }
   ],
   "source": [
    "disease_syn_df = disease_info_df[['Disease Mesh ID', 'Synonyms']].rename(columns={'Synonyms': 'Name'})\n",
    "disease_syn_df['Name'].str.split('\\|')"
   ]
  },
  {
   "cell_type": "markdown",
   "id": "a8cc1735",
   "metadata": {},
   "source": [
    "## Write Formatted Data"
   ]
  },
  {
   "cell_type": "code",
   "execution_count": 319,
   "id": "83824df8",
   "metadata": {},
   "outputs": [],
   "source": [
    "disease_drug_df.to_csv(f'{data_dir}/output/disease-drug.tsv', index=False, sep='\\t')\n",
    "drug_info_df.to_csv(f'{data_dir}/output/drug.tsv', index=False, sep='\\t')\n",
    "disease_info_df.to_csv(f'{data_dir}/output/disease.tsv', index=False, sep='\\t')\n",
    "drug_all_names_df.to_csv(f'{data_dir}/output/drug-name.tsv', index=False, sep='\\t')\n",
    "disease_all_names_df.to_csv(f'{data_dir}/output/disease-name.tsv', index=False, sep='\\t')"
   ]
  },
  {
   "cell_type": "markdown",
   "id": "9b7067ea",
   "metadata": {},
   "source": [
    "# Provider Drug Dataset"
   ]
  },
  {
   "cell_type": "code",
   "execution_count": null,
   "id": "378baa0d",
   "metadata": {},
   "outputs": [],
   "source": []
  },
  {
   "cell_type": "markdown",
   "id": "3be57120",
   "metadata": {},
   "source": [
    "# Drug Rating Dataset"
   ]
  },
  {
   "cell_type": "code",
   "execution_count": null,
   "id": "e537cfef",
   "metadata": {},
   "outputs": [],
   "source": [
    "drug_ratings_df = pd.re"
   ]
  }
 ],
 "metadata": {
  "kernelspec": {
   "display_name": "Python [conda env:gradient]",
   "language": "python",
   "name": "conda-env-gradient-py"
  },
  "language_info": {
   "codemirror_mode": {
    "name": "ipython",
    "version": 3
   },
   "file_extension": ".py",
   "mimetype": "text/x-python",
   "name": "python",
   "nbconvert_exporter": "python",
   "pygments_lexer": "ipython3",
   "version": "3.9.12"
  }
 },
 "nbformat": 4,
 "nbformat_minor": 5
}
