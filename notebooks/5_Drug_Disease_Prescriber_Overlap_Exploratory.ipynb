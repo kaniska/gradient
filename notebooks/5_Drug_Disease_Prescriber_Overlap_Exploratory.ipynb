{
 "cells": [
  {
   "cell_type": "markdown",
   "id": "2ae699af",
   "metadata": {},
   "source": [
    "# Setup"
   ]
  },
  {
   "cell_type": "code",
   "execution_count": 5,
   "id": "2780a044",
   "metadata": {},
   "outputs": [],
   "source": [
    "import pandas as pd\n",
    "import numpy as np\n",
    "from pandasql import sqldf\n",
    "pysqldf = lambda q: sqldf(q, globals())"
   ]
  },
  {
   "cell_type": "code",
   "execution_count": 6,
   "id": "850d45dd",
   "metadata": {},
   "outputs": [],
   "source": [
    "data_dir = '../core/dataset'"
   ]
  },
  {
   "cell_type": "markdown",
   "id": "8fbfccae",
   "metadata": {},
   "source": [
    "# Import and Load Datasets"
   ]
  },
  {
   "cell_type": "code",
   "execution_count": 7,
   "id": "570cfec0",
   "metadata": {},
   "outputs": [],
   "source": [
    "drug_ratings_train_df = pd.read_csv(f'{data_dir}/input/drugsComTrain_raw.tsv', sep='\\t')\n",
    "drug_ratings_test_df = pd.read_csv(f'{data_dir}/input/drugsComTest_raw.tsv', sep='\\t')\n",
    "\n",
    "drug_ratings_train_df = drug_ratings_train_df.drop('Unnamed: 0', axis=1)\n",
    "drug_ratings_test_df = drug_ratings_test_df.drop('Unnamed: 0', axis=1)\n",
    "\n",
    "drug_ratings_df = pd.concat((drug_ratings_train_df, drug_ratings_test_df))"
   ]
  },
  {
   "cell_type": "code",
   "execution_count": 8,
   "id": "ee134cc8",
   "metadata": {},
   "outputs": [],
   "source": [
    "drug_info_df = pd.read_csv(f'{data_dir}/output/drug.tsv', sep='\\t')\n",
    "drug_all_names_df = pd.read_csv(f'{data_dir}/output/drug-name.tsv', sep='\\t')"
   ]
  },
  {
   "cell_type": "code",
   "execution_count": 9,
   "id": "cdd75553",
   "metadata": {
    "scrolled": true
   },
   "outputs": [],
   "source": [
    "provider_drug_names_df = pd.read_csv(f'{data_dir}/input/Medicare_Part_D_Prescribers_by_Provider_and_Drug_2019.csv')"
   ]
  },
  {
   "cell_type": "code",
   "execution_count": 10,
   "id": "c777d91a",
   "metadata": {},
   "outputs": [],
   "source": [
    "all_provider_drug_names = pd.concat((provider_drug_names_df['Brnd_Name'], provider_drug_names_df['Gnrc_Name'])).drop_duplicates()"
   ]
  },
  {
   "cell_type": "markdown",
   "id": "9d5af314",
   "metadata": {},
   "source": [
    "# Calculate Drug Name Overlap"
   ]
  },
  {
   "cell_type": "markdown",
   "id": "2eb5088d",
   "metadata": {},
   "source": [
    "Here we calculate the pairwise overlap in lowercase drug names between the Prescriber-Drug, drug rating, and drugbank datasets, as well as the overall overlap."
   ]
  },
  {
   "cell_type": "code",
   "execution_count": 41,
   "id": "137dabdf",
   "metadata": {
    "scrolled": true
   },
   "outputs": [
    {
     "name": "stdout",
     "output_type": "stream",
     "text": [
      "Num unique in drug rating train file 3436\n",
      "Num unique in drug rating test file 2637\n",
      "Num unique in drug rating file 3671\n",
      "Num unique in drug info file (including synonyms) 42016\n",
      "\n",
      "Overlap ratings v. drug info all names (lowercase): 1033\n",
      "Overlap provider drug v. drug info all names (lowercase): 699\n",
      "Overlap provider drug v. ratings generic: 448\n",
      "Overlap provider drug v. ratings brand: 1322\n",
      "Overlap provider drug v. ratings all names (lowercase): 1490\n",
      "Overlap all: 465\n"
     ]
    }
   ],
   "source": [
    "print('Num unique in drug rating train file', len(set(drug_ratings_train_df['drugName'])))\n",
    "print('Num unique in drug rating test file', len(set(drug_ratings_test_df['drugName'])))\n",
    "print('Num unique in drug rating file', len(set(drug_ratings_df['drugName'])))\n",
    "print('Num unique in drug info file (including synonyms)', len(set(drug_all_names_df['Name'])))\n",
    "print()\n",
    "\n",
    "drug_info_name_set = set(drug_all_names_df['Name'].str.lower())\n",
    "ratings_name_set = set(drug_ratings_df['drugName'].str.lower())\n",
    "provider_drug_name_set = set(all_provider_drug_names.str.lower())\n",
    "provider_drug_generic_name_set = set(provider_drug_names_df['Gnrc_Name'].str.lower())\n",
    "provider_drug_brand_name_set = set(provider_drug_names_df['Brnd_Name'].str.lower())\n",
    "\n",
    "provider_drug_info_overlap = provider_drug_name_set.intersection(drug_info_name_set)\n",
    "info_ratings_overlap = drug_info_name_set.intersection(ratings_name_set)\n",
    "provider_drug_ratings_overlap = provider_drug_name_set.intersection(ratings_name_set)\n",
    "provider_drug_ratings_overlap_generic = provider_drug_generic_name_set.intersection(ratings_name_set)\n",
    "provider_drug_ratings_overlap_brand = provider_drug_brand_name_set.intersection(ratings_name_set)\n",
    "\n",
    "all_overlap = provider_drug_name_set.intersection(ratings_name_set).intersection(drug_info_name_set)\n",
    "\n",
    "print('Overlap ratings v. drug info all names (lowercase):', len(info_ratings_overlap))\n",
    "print('Overlap provider drug v. drug info all names (lowercase):', len(provider_drug_info_overlap))\n",
    "print('Overlap provider drug v. ratings generic:', len(provider_drug_ratings_overlap_generic))\n",
    "print('Overlap provider drug v. ratings brand:', len(provider_drug_ratings_overlap_brand))\n",
    "\n",
    "print('Overlap provider drug v. ratings all names (lowercase):', len(provider_drug_ratings_overlap))\n",
    "\n",
    "print('Overlap all:', len(all_overlap))"
   ]
  },
  {
   "cell_type": "markdown",
   "id": "5c9914e6",
   "metadata": {},
   "source": [
    "### Drugs by Number of high & low rated reviews"
   ]
  },
  {
   "cell_type": "code",
   "execution_count": 60,
   "id": "ee150ddb",
   "metadata": {
    "scrolled": true
   },
   "outputs": [
    {
     "data": {
      "text/html": [
       "<div>\n",
       "<style scoped>\n",
       "    .dataframe tbody tr th:only-of-type {\n",
       "        vertical-align: middle;\n",
       "    }\n",
       "\n",
       "    .dataframe tbody tr th {\n",
       "        vertical-align: top;\n",
       "    }\n",
       "\n",
       "    .dataframe thead th {\n",
       "        text-align: right;\n",
       "    }\n",
       "</style>\n",
       "<table border=\"1\" class=\"dataframe\">\n",
       "  <thead>\n",
       "    <tr style=\"text-align: right;\">\n",
       "      <th></th>\n",
       "      <th>rating</th>\n",
       "    </tr>\n",
       "    <tr>\n",
       "      <th>drugName</th>\n",
       "      <th></th>\n",
       "    </tr>\n",
       "  </thead>\n",
       "  <tbody>\n",
       "    <tr>\n",
       "      <th>Levonorgestrel</th>\n",
       "      <td>3181</td>\n",
       "    </tr>\n",
       "    <tr>\n",
       "      <th>Etonogestrel</th>\n",
       "      <td>1834</td>\n",
       "    </tr>\n",
       "    <tr>\n",
       "      <th>Phentermine</th>\n",
       "      <td>1775</td>\n",
       "    </tr>\n",
       "    <tr>\n",
       "      <th>Ethinyl estradiol / norethindrone</th>\n",
       "      <td>1523</td>\n",
       "    </tr>\n",
       "    <tr>\n",
       "      <th>Escitalopram</th>\n",
       "      <td>1252</td>\n",
       "    </tr>\n",
       "    <tr>\n",
       "      <th>Sertraline</th>\n",
       "      <td>1242</td>\n",
       "    </tr>\n",
       "    <tr>\n",
       "      <th>Ethinyl estradiol / norgestimate</th>\n",
       "      <td>1171</td>\n",
       "    </tr>\n",
       "    <tr>\n",
       "      <th>Nexplanon</th>\n",
       "      <td>1125</td>\n",
       "    </tr>\n",
       "    <tr>\n",
       "      <th>Ethinyl estradiol / levonorgestrel</th>\n",
       "      <td>1025</td>\n",
       "    </tr>\n",
       "    <tr>\n",
       "      <th>Gabapentin</th>\n",
       "      <td>950</td>\n",
       "    </tr>\n",
       "    <tr>\n",
       "      <th>Clonazepam</th>\n",
       "      <td>945</td>\n",
       "    </tr>\n",
       "    <tr>\n",
       "      <th>Varenicline</th>\n",
       "      <td>938</td>\n",
       "    </tr>\n",
       "    <tr>\n",
       "      <th>Bupropion</th>\n",
       "      <td>919</td>\n",
       "    </tr>\n",
       "    <tr>\n",
       "      <th>Lexapro</th>\n",
       "      <td>912</td>\n",
       "    </tr>\n",
       "    <tr>\n",
       "      <th>Mirena</th>\n",
       "      <td>902</td>\n",
       "    </tr>\n",
       "    <tr>\n",
       "      <th>Citalopram</th>\n",
       "      <td>889</td>\n",
       "    </tr>\n",
       "    <tr>\n",
       "      <th>Alprazolam</th>\n",
       "      <td>813</td>\n",
       "    </tr>\n",
       "    <tr>\n",
       "      <th>Venlafaxine</th>\n",
       "      <td>768</td>\n",
       "    </tr>\n",
       "    <tr>\n",
       "      <th>Liraglutide</th>\n",
       "      <td>751</td>\n",
       "    </tr>\n",
       "    <tr>\n",
       "      <th>Chantix</th>\n",
       "      <td>745</td>\n",
       "    </tr>\n",
       "  </tbody>\n",
       "</table>\n",
       "</div>"
      ],
      "text/plain": [
       "                                    rating\n",
       "drugName                                  \n",
       "Levonorgestrel                        3181\n",
       "Etonogestrel                          1834\n",
       "Phentermine                           1775\n",
       "Ethinyl estradiol / norethindrone     1523\n",
       "Escitalopram                          1252\n",
       "Sertraline                            1242\n",
       "Ethinyl estradiol / norgestimate      1171\n",
       "Nexplanon                             1125\n",
       "Ethinyl estradiol / levonorgestrel    1025\n",
       "Gabapentin                             950\n",
       "Clonazepam                             945\n",
       "Varenicline                            938\n",
       "Bupropion                              919\n",
       "Lexapro                                912\n",
       "Mirena                                 902\n",
       "Citalopram                             889\n",
       "Alprazolam                             813\n",
       "Venlafaxine                            768\n",
       "Liraglutide                            751\n",
       "Chantix                                745"
      ]
     },
     "execution_count": 60,
     "metadata": {},
     "output_type": "execute_result"
    }
   ],
   "source": [
    "drug_ratings_df[drug_ratings_df['rating'] >= 8][['drugName', 'rating']].groupby(by=['drugName']).count().sort_values(by='rating', ascending=False)[:20]\n",
    "drug_ratings_df[drug_ratings_df['rating'] <= 3][['drugName', 'rating']].groupby(by=['drugName']).count().sort_values(by='rating', ascending=False)[:20]\n",
    "\n",
    "# global ratings count by drug name (8-10)"
   ]
  },
  {
   "cell_type": "markdown",
   "id": "1447d22d",
   "metadata": {},
   "source": [
    "### Drug rating histogram"
   ]
  },
  {
   "cell_type": "code",
   "execution_count": 11,
   "id": "c9164d4e",
   "metadata": {
    "scrolled": true
   },
   "outputs": [
    {
     "data": {
      "text/html": [
       "<div>\n",
       "<style scoped>\n",
       "    .dataframe tbody tr th:only-of-type {\n",
       "        vertical-align: middle;\n",
       "    }\n",
       "\n",
       "    .dataframe tbody tr th {\n",
       "        vertical-align: top;\n",
       "    }\n",
       "\n",
       "    .dataframe thead th {\n",
       "        text-align: right;\n",
       "    }\n",
       "</style>\n",
       "<table border=\"1\" class=\"dataframe\">\n",
       "  <thead>\n",
       "    <tr style=\"text-align: right;\">\n",
       "      <th></th>\n",
       "      <th>drugName</th>\n",
       "      <th>rating</th>\n",
       "      <th>cnt</th>\n",
       "    </tr>\n",
       "  </thead>\n",
       "  <tbody>\n",
       "    <tr>\n",
       "      <th>0</th>\n",
       "      <td>A + D Cracked Skin Relief</td>\n",
       "      <td>10.0</td>\n",
       "      <td>1</td>\n",
       "    </tr>\n",
       "    <tr>\n",
       "      <th>1</th>\n",
       "      <td>A / B Otic</td>\n",
       "      <td>10.0</td>\n",
       "      <td>2</td>\n",
       "    </tr>\n",
       "    <tr>\n",
       "      <th>2</th>\n",
       "      <td>Abacavir / dolutegravir / lamivudine</td>\n",
       "      <td>1.0</td>\n",
       "      <td>2</td>\n",
       "    </tr>\n",
       "    <tr>\n",
       "      <th>3</th>\n",
       "      <td>Abacavir / dolutegravir / lamivudine</td>\n",
       "      <td>3.0</td>\n",
       "      <td>2</td>\n",
       "    </tr>\n",
       "    <tr>\n",
       "      <th>4</th>\n",
       "      <td>Abacavir / dolutegravir / lamivudine</td>\n",
       "      <td>4.0</td>\n",
       "      <td>3</td>\n",
       "    </tr>\n",
       "    <tr>\n",
       "      <th>...</th>\n",
       "      <td>...</td>\n",
       "      <td>...</td>\n",
       "      <td>...</td>\n",
       "    </tr>\n",
       "    <tr>\n",
       "      <th>16646</th>\n",
       "      <td>femhrt</td>\n",
       "      <td>1.0</td>\n",
       "      <td>2</td>\n",
       "    </tr>\n",
       "    <tr>\n",
       "      <th>16647</th>\n",
       "      <td>femhrt</td>\n",
       "      <td>8.0</td>\n",
       "      <td>1</td>\n",
       "    </tr>\n",
       "    <tr>\n",
       "      <th>16648</th>\n",
       "      <td>femhrt</td>\n",
       "      <td>9.0</td>\n",
       "      <td>1</td>\n",
       "    </tr>\n",
       "    <tr>\n",
       "      <th>16649</th>\n",
       "      <td>femhrt</td>\n",
       "      <td>10.0</td>\n",
       "      <td>2</td>\n",
       "    </tr>\n",
       "    <tr>\n",
       "      <th>16650</th>\n",
       "      <td>pHisoHex</td>\n",
       "      <td>10.0</td>\n",
       "      <td>1</td>\n",
       "    </tr>\n",
       "  </tbody>\n",
       "</table>\n",
       "<p>16651 rows × 3 columns</p>\n",
       "</div>"
      ],
      "text/plain": [
       "                                   drugName  rating  cnt\n",
       "0                 A + D Cracked Skin Relief    10.0    1\n",
       "1                                A / B Otic    10.0    2\n",
       "2      Abacavir / dolutegravir / lamivudine     1.0    2\n",
       "3      Abacavir / dolutegravir / lamivudine     3.0    2\n",
       "4      Abacavir / dolutegravir / lamivudine     4.0    3\n",
       "...                                     ...     ...  ...\n",
       "16646                                femhrt     1.0    2\n",
       "16647                                femhrt     8.0    1\n",
       "16648                                femhrt     9.0    1\n",
       "16649                                femhrt    10.0    2\n",
       "16650                              pHisoHex    10.0    1\n",
       "\n",
       "[16651 rows x 3 columns]"
      ]
     },
     "execution_count": 11,
     "metadata": {},
     "output_type": "execute_result"
    }
   ],
   "source": [
    "drug_rating_hist_df = pysqldf(\"select drugName, rating, count(*) as cnt from drug_ratings_df group by drugName, rating\")"
   ]
  },
  {
   "cell_type": "markdown",
   "id": "1463f379",
   "metadata": {},
   "source": [
    "### Drug quantile and count"
   ]
  },
  {
   "cell_type": "code",
   "execution_count": 28,
   "id": "528185c5",
   "metadata": {
    "scrolled": true
   },
   "outputs": [
    {
     "data": {
      "text/html": [
       "<div>\n",
       "<style scoped>\n",
       "    .dataframe tbody tr th:only-of-type {\n",
       "        vertical-align: middle;\n",
       "    }\n",
       "\n",
       "    .dataframe tbody tr th {\n",
       "        vertical-align: top;\n",
       "    }\n",
       "\n",
       "    .dataframe thead th {\n",
       "        text-align: right;\n",
       "    }\n",
       "</style>\n",
       "<table border=\"1\" class=\"dataframe\">\n",
       "  <thead>\n",
       "    <tr style=\"text-align: right;\">\n",
       "      <th></th>\n",
       "      <th>rating_x</th>\n",
       "      <th>rating_y</th>\n",
       "    </tr>\n",
       "    <tr>\n",
       "      <th>drugName</th>\n",
       "      <th></th>\n",
       "      <th></th>\n",
       "    </tr>\n",
       "  </thead>\n",
       "  <tbody>\n",
       "    <tr>\n",
       "      <th>A + D Cracked Skin Relief</th>\n",
       "      <td>10.0</td>\n",
       "      <td>1</td>\n",
       "    </tr>\n",
       "    <tr>\n",
       "      <th>A / B Otic</th>\n",
       "      <td>10.0</td>\n",
       "      <td>2</td>\n",
       "    </tr>\n",
       "    <tr>\n",
       "      <th>Abacavir / dolutegravir / lamivudine</th>\n",
       "      <td>10.0</td>\n",
       "      <td>70</td>\n",
       "    </tr>\n",
       "    <tr>\n",
       "      <th>Abacavir / lamivudine</th>\n",
       "      <td>10.0</td>\n",
       "      <td>3</td>\n",
       "    </tr>\n",
       "    <tr>\n",
       "      <th>Abacavir / lamivudine / zidovudine</th>\n",
       "      <td>9.0</td>\n",
       "      <td>1</td>\n",
       "    </tr>\n",
       "    <tr>\n",
       "      <th>...</th>\n",
       "      <td>...</td>\n",
       "      <td>...</td>\n",
       "    </tr>\n",
       "    <tr>\n",
       "      <th>ZzzQuil</th>\n",
       "      <td>3.4</td>\n",
       "      <td>3</td>\n",
       "    </tr>\n",
       "    <tr>\n",
       "      <th>depo-subQ provera 104</th>\n",
       "      <td>9.1</td>\n",
       "      <td>2</td>\n",
       "    </tr>\n",
       "    <tr>\n",
       "      <th>ella</th>\n",
       "      <td>10.0</td>\n",
       "      <td>71</td>\n",
       "    </tr>\n",
       "    <tr>\n",
       "      <th>femhrt</th>\n",
       "      <td>10.0</td>\n",
       "      <td>6</td>\n",
       "    </tr>\n",
       "    <tr>\n",
       "      <th>pHisoHex</th>\n",
       "      <td>10.0</td>\n",
       "      <td>1</td>\n",
       "    </tr>\n",
       "  </tbody>\n",
       "</table>\n",
       "<p>3671 rows × 2 columns</p>\n",
       "</div>"
      ],
      "text/plain": [
       "                                      rating_x  rating_y\n",
       "drugName                                                \n",
       "A + D Cracked Skin Relief                 10.0         1\n",
       "A / B Otic                                10.0         2\n",
       "Abacavir / dolutegravir / lamivudine      10.0        70\n",
       "Abacavir / lamivudine                     10.0         3\n",
       "Abacavir / lamivudine / zidovudine         9.0         1\n",
       "...                                        ...       ...\n",
       "ZzzQuil                                    3.4         3\n",
       "depo-subQ provera 104                      9.1         2\n",
       "ella                                      10.0        71\n",
       "femhrt                                    10.0         6\n",
       "pHisoHex                                  10.0         1\n",
       "\n",
       "[3671 rows x 2 columns]"
      ]
     },
     "execution_count": 28,
     "metadata": {},
     "output_type": "execute_result"
    }
   ],
   "source": [
    "rating_quantile_df = drug_ratings_df[['drugName', 'rating']].groupby(by='drugName').quantile(0.9)\n",
    "rating_count_df = drug_ratings_df[['drugName', 'rating']].groupby(by='drugName').count()\n",
    "\n",
    "rating_quantile_df.merge(rating_count_df, on='drugName')"
   ]
  },
  {
   "cell_type": "code",
   "execution_count": 11,
   "id": "26531f1a",
   "metadata": {},
   "outputs": [
    {
     "name": "stdout",
     "output_type": "stream",
     "text": [
      "6.990007579174474\n"
     ]
    }
   ],
   "source": [
    "total_avg_rating = drug_ratings_df['rating'].mean()\n",
    "drug_rating_avg_df = drug_ratings_df[['drugName', 'rating']].groupby(by='drugName').mean() / total_avg_rating\n",
    "\n",
    "print(total_avg_rating)"
   ]
  },
  {
   "cell_type": "code",
   "execution_count": 75,
   "id": "035c407f",
   "metadata": {},
   "outputs": [],
   "source": [
    "condition_count_high_df = pysqldf(\"select condition, count(*) as cnt from drug_ratings_df where rating >= 8.0 group by condition order by cnt desc\")\n",
    "condition_count_low_df = pysqldf(\"select condition, count(*) as cnt from drug_ratings_df where rating <= 3.0 group by condition order by cnt desc\")"
   ]
  },
  {
   "cell_type": "code",
   "execution_count": null,
   "id": "ead4b30a",
   "metadata": {},
   "outputs": [],
   "source": [
    "prescriber_ratings_df = pysqldf(\"select b.*, a.rating, a.condition from drug_ratings_df as a inner join provider_drug_names_df as b on lower(a.drugName) == lower(b.Brnd_Name) or lower(a.drugName) == lower(b.Gnrc_Name)\")"
   ]
  }
 ],
 "metadata": {
  "kernelspec": {
   "display_name": "Python [conda env:gradient]",
   "language": "python",
   "name": "conda-env-gradient-py"
  },
  "language_info": {
   "codemirror_mode": {
    "name": "ipython",
    "version": 3
   },
   "file_extension": ".py",
   "mimetype": "text/x-python",
   "name": "python",
   "nbconvert_exporter": "python",
   "pygments_lexer": "ipython3",
   "version": "3.9.12"
  }
 },
 "nbformat": 4,
 "nbformat_minor": 5
}
