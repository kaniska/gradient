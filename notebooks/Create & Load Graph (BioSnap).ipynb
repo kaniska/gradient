{
 "cells": [
  {
   "cell_type": "code",
   "execution_count": 13,
   "id": "e0108dcc",
   "metadata": {},
   "outputs": [],
   "source": [
    "import pyTigerGraph as tg\n",
    "from pyTigerGraph.pyTigerGraph import TigerGraphException\n",
    "import pandas as pd"
   ]
  },
  {
   "cell_type": "markdown",
   "id": "32af71f6",
   "metadata": {},
   "source": [
    "# Create & Test Connection"
   ]
  },
  {
   "cell_type": "code",
   "execution_count": 47,
   "id": "35c8be50",
   "metadata": {},
   "outputs": [
    {
     "name": "stdout",
     "output_type": "stream",
     "text": [
      "---- Graph gradient\n",
      "Vertex Types:\n",
      "- VERTEX Drug(PRIMARY_ID drug_id STRING, common_name STRING) WITH STATS=\"OUTDEGREE_BY_EDGETYPE\", PRIMARY_ID_AS_ATTRIBUTE=\"true\"\n",
      "- VERTEX Disease(PRIMARY_ID disease_id STRING, common_name STRING, description STRING) WITH STATS=\"OUTDEGREE_BY_EDGETYPE\", PRIMARY_ID_AS_ATTRIBUTE=\"true\"\n",
      "- VERTEX Name(PRIMARY_ID name STRING, isCommon BOOL) WITH STATS=\"OUTDEGREE_BY_EDGETYPE\", PRIMARY_ID_AS_ATTRIBUTE=\"true\"\n",
      "Edge Types:\n",
      "- UNDIRECTED EDGE interacts_with(FROM Drug, TO Disease)\n",
      "- UNDIRECTED EDGE has_name(FROM Drug, TO Name|FROM Disease, TO Name)\n",
      "\n",
      "Graphs:\n",
      "- Graph gradient(Drug:v, Disease:v, Name:v, interacts_with:e, has_name:e)\n",
      "Jobs:\n",
      "- CREATE SCHEMA_CHANGE JOB initGraph FOR GRAPH gradient {\n",
      "ADD VERTEX Drug(PRIMARY_ID drug_id STRING, common_name STRING) WITH STATS=\"OUTDEGREE_BY_EDGETYPE\", PRIMARY_ID_AS_ATTRIBUTE=\"true\";\n",
      "ADD VERTEX Disease(PRIMARY_ID disease_id STRING, common_name STRING, description STRING) WITH STATS=\"OUTDEGREE_BY_EDGETYPE\", PRIMARY_ID_AS_ATTRIBUTE=\"true\";\n",
      "ADD VERTEX Name(PRIMARY_ID name STRING, isCommon BOOL) WITH STATS=\"OUTDEGREE_BY_EDGETYPE\", PRIMARY_ID_AS_ATTRIBUTE=\"true\";\n",
      "ADD UNDIRECTED EDGE interacts_with(FROM Drug, TO Disease);\n",
      "ADD UNDIRECTED EDGE has_name(FROM Drug, TO Name|FROM Disease, TO Name);\n",
      "}\n",
      "\n",
      "Queries:\n",
      "\n",
      "\n",
      "\n",
      "\n"
     ]
    }
   ],
   "source": [
    "secret = '9jgvbu34uq8sgjg7bn4fe5mrhiokvfcf'\n",
    "cred = {\n",
    "    \"host\": \"https://gradient-test.i.tgcloud.io\",\n",
    "    \"graphname\": \"gradient\",\n",
    "    \"username\": \"tigergraph\",\n",
    "    \"password\": \"Gradient123\"\n",
    "}\n",
    "\n",
    "\n",
    "token, token_life_sec, token_expir_date = tg.TigerGraphConnection(**cred).getToken(secret=\"9jgvbu34uq8sgjg7bn4fe5mrhiokvfcf\")\n",
    "\n",
    "cred[\"apiToken\"] = token\n",
    "conn = tg.TigerGraphConnection(**cred)\n",
    "print(conn.gsql('ls')) # test connection"
   ]
  },
  {
   "cell_type": "markdown",
   "id": "bb29cad4",
   "metadata": {},
   "source": [
    "# Create Graph"
   ]
  },
  {
   "cell_type": "code",
   "execution_count": null,
   "id": "7959fd9a",
   "metadata": {},
   "outputs": [],
   "source": []
  },
  {
   "cell_type": "code",
   "execution_count": 21,
   "id": "d9f3461b",
   "metadata": {},
   "outputs": [
    {
     "name": "stdout",
     "output_type": "stream",
     "text": [
      "Graph name gradient cannot be found. Please provide a valid graph name via 'graph=xxx' parameter string.\n"
     ]
    }
   ],
   "source": [
    "graph_not_exists_message = \"Graph name gradient cannot be found. Please provide a valid graph name via 'graph=xxx' parameter string.\"\n",
    "\n",
    "try:\n",
    "    conn.getSchema() # Check if graph exists\n",
    "    print(conn.gsql('DROP GRAPH gradient'))\n",
    "except TigerGraphException as e:\n",
    "    print(e.message)"
   ]
  },
  {
   "cell_type": "code",
   "execution_count": 23,
   "id": "159ab79c",
   "metadata": {},
   "outputs": [
    {
     "name": "stdout",
     "output_type": "stream",
     "text": [
      "The graph gradient is created.\n",
      "Using graph 'gradient'\n",
      "Successfully created schema change jobs: [initGraph].\n",
      "\n",
      "Current graph version 0\n",
      "Trying to add vertex Drug.\n",
      "Trying to add vertex Disease.\n",
      "Trying to add vertex Name.\n",
      "Trying to add edge interacts_with.\n",
      "Trying to add edge has_name.\n",
      "Kick off job initGraph\n",
      "\n",
      "Graph gradient update to new version 1\n",
      "The job initGraph completes in 11.427 seconds!\n"
     ]
    }
   ],
   "source": [
    "create_graph_query_fname = \"../core/graph/create_graph_schema.gsql\"\n",
    "\n",
    "with open(create_graph_query_fname, \"r\") as f:\n",
    "    create_graph_query = f.read()\n",
    "\n",
    "print(conn.gsql(create_graph_query))"
   ]
  },
  {
   "cell_type": "markdown",
   "id": "0799246a",
   "metadata": {},
   "source": [
    "# Load Graph"
   ]
  },
  {
   "cell_type": "code",
   "execution_count": 55,
   "id": "b3a9d316",
   "metadata": {},
   "outputs": [],
   "source": [
    "data_dir = '../core/dataset/output'"
   ]
  },
  {
   "cell_type": "code",
   "execution_count": 67,
   "id": "58a00df3",
   "metadata": {},
   "outputs": [
    {
     "data": {
      "text/plain": [
       "14594"
      ]
     },
     "execution_count": 67,
     "metadata": {},
     "output_type": "execute_result"
    }
   ],
   "source": [
    "drug_df = pd.read_csv(f'{data_dir}/drug.tsv', sep='\\t')\n",
    "drug_df.fillna('', inplace=True)\n",
    "\n",
    "conn.upsertVertexDataFrame(\n",
    "    drug_df,\n",
    "    'Drug',\n",
    "    v_id = 'DrugBank ID',\n",
    "    attributes = {\n",
    "        'common_name': 'Common name'\n",
    "    }\n",
    ")"
   ]
  },
  {
   "cell_type": "code",
   "execution_count": 69,
   "id": "08dc81b1",
   "metadata": {},
   "outputs": [
    {
     "data": {
      "text/plain": [
       "11332"
      ]
     },
     "execution_count": 69,
     "metadata": {},
     "output_type": "execute_result"
    }
   ],
   "source": [
    "disease_df = pd.read_csv(f'{data_dir}/disease.tsv', sep='\\t')\n",
    "disease_df.fillna('', inplace=True)\n",
    "\n",
    "conn.upsertVertexDataFrame(\n",
    "    disease_df,\n",
    "    'Disease',\n",
    "    v_id = 'Disease Mesh ID',\n",
    "    attributes = {\n",
    "        'common_name': 'Name',\n",
    "        'description': 'Description'\n",
    "    }\n",
    ")"
   ]
  },
  {
   "cell_type": "code",
   "execution_count": 71,
   "id": "ca32c740",
   "metadata": {},
   "outputs": [
    {
     "data": {
      "text/plain": [
       "466657"
      ]
     },
     "execution_count": 71,
     "metadata": {},
     "output_type": "execute_result"
    }
   ],
   "source": [
    "drug_disease_df = pd.read_csv(f'{data_dir}/disease-drug.tsv', sep='\\t')\n",
    "\n",
    "conn.upsertEdgeDataFrame(\n",
    "    drug_disease_df,\n",
    "    'Drug',\n",
    "    'interacts_with',\n",
    "    'Disease',\n",
    "    from_id = 'Chemical',\n",
    "    to_id = 'Disease Mesh ID',\n",
    "    attributes = {}\n",
    ")"
   ]
  },
  {
   "cell_type": "code",
   "execution_count": null,
   "id": "f85dfbc7",
   "metadata": {},
   "outputs": [],
   "source": []
  },
  {
   "cell_type": "code",
   "execution_count": 77,
   "id": "b34f4b05",
   "metadata": {},
   "outputs": [
    {
     "name": "stdout",
     "output_type": "stream",
     "text": [
      "42016\n",
      "42016\n"
     ]
    }
   ],
   "source": [
    "drug_to_name_df = pd.read_csv(f'{data_dir}/drug-name.tsv', sep='\\t')\n",
    "drug_names_df = drug_to_name_df[['Name', 'isCommon']].drop_duplicates()\n",
    "\n",
    "print(conn.upsertVertexDataFrame(\n",
    "    drug_name_df,\n",
    "    'Name',\n",
    "    attributes={\n",
    "        'name': 'Name',\n",
    "        'isCommon': 'isCommon'\n",
    "    }\n",
    "))\n",
    "\n",
    "print(conn.upsertEdgeDataFrame(\n",
    "    drug_to_name_df,\n",
    "    'Drug',\n",
    "    'has_name',\n",
    "    'Name',\n",
    "    attributes={}\n",
    "))"
   ]
  },
  {
   "cell_type": "code",
   "execution_count": null,
   "id": "184ef32f",
   "metadata": {},
   "outputs": [],
   "source": [
    "disease_to_name_df = pd.read_csv(f'{data_dir}/disease-name.tsv', sep='\\t')\n",
    "disease_names_df = disease_to_name_df['Name', 'isCommon'].drop_duplicates()\n",
    "\n",
    "print(conn.upsertVertexDataFrame(\n",
    "    disease_name_df,\n",
    "    'Name',\n",
    "    attributes={\n",
    "        'name': 'Name',\n",
    "        'isCommon': 'isCommon'\n",
    "    }\n",
    "))\n",
    "\n",
    "print(conn.upsertEdgeDataFrame(\n",
    "    disease_to_name_df,\n",
    "    'Disease',\n",
    "    'has_name',\n",
    "    'Name',\n",
    "    attributes={}\n",
    "))"
   ]
  },
  {
   "cell_type": "code",
   "execution_count": null,
   "id": "desirable-anthropology",
   "metadata": {},
   "outputs": [],
   "source": [
    "# drug ratings\n",
    "drug_ratings_df = pd.read_csv(f'{data_dir}/', sep='\\t')"
   ]
  },
  {
   "cell_type": "code",
   "execution_count": null,
   "id": "happy-muslim",
   "metadata": {},
   "outputs": [],
   "source": [
    "# drug provider namessu"
   ]
  }
 ],
 "metadata": {
  "kernelspec": {
   "display_name": "Python [conda env:gradient]",
   "language": "python",
   "name": "conda-env-gradient-py"
  },
  "language_info": {
   "codemirror_mode": {
    "name": "ipython",
    "version": 3
   },
   "file_extension": ".py",
   "mimetype": "text/x-python",
   "name": "python",
   "nbconvert_exporter": "python",
   "pygments_lexer": "ipython3",
   "version": "3.9.12"
  }
 },
 "nbformat": 4,
 "nbformat_minor": 5
}
