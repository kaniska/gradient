{
 "cells": [
  {
   "cell_type": "code",
   "execution_count": 50,
   "id": "e0108dcc",
   "metadata": {},
   "outputs": [],
   "source": [
    "import numpy as np\n",
    "import pyTigerGraph as tg\n",
    "from pyTigerGraph.pyTigerGraph import TigerGraphException\n",
    "import pandas as pd\n",
    "from tqdm import tqdm"
   ]
  },
  {
   "cell_type": "code",
   "execution_count": 51,
   "id": "jewish-laugh",
   "metadata": {},
   "outputs": [],
   "source": [
    "batch_size = 10000"
   ]
  },
  {
   "cell_type": "markdown",
   "id": "32af71f6",
   "metadata": {},
   "source": [
    "# Create & Test Connection"
   ]
  },
  {
   "cell_type": "code",
   "execution_count": 52,
   "id": "35c8be50",
   "metadata": {},
   "outputs": [
    {
     "name": "stdout",
     "output_type": "stream",
     "text": [
      "---- Graph PrescribedDrugReview\n",
      "Vertex Types:\n",
      "- VERTEX Drug(PRIMARY_ID generic_name STRING) WITH STATS=\"OUTDEGREE_BY_EDGETYPE\", PRIMARY_ID_AS_ATTRIBUTE=\"true\"\n",
      "- VERTEX Disease(PRIMARY_ID disease_name STRING, description STRING) WITH STATS=\"OUTDEGREE_BY_EDGETYPE\", PRIMARY_ID_AS_ATTRIBUTE=\"true\"\n",
      "- VERTEX BrandName(PRIMARY_ID name STRING) WITH STATS=\"OUTDEGREE_BY_EDGETYPE\", PRIMARY_ID_AS_ATTRIBUTE=\"true\"\n",
      "- VERTEX Prescriber(PRIMARY_ID prescriber_npi STRING, first_name STRING, last_name STRING) WITH STATS=\"OUTDEGREE_BY_EDGETYPE\", PRIMARY_ID_AS_ATTRIBUTE=\"true\"\n",
      "- VERTEX Prescriber_Type(PRIMARY_ID prescriber_type STRING) WITH STATS=\"OUTDEGREE_BY_EDGETYPE\", PRIMARY_ID_AS_ATTRIBUTE=\"true\"\n",
      "- VERTEX Review(PRIMARY_ID review_id STRING, review STRING, rating INT, date DATETIME) WITH STATS=\"OUTDEGREE_BY_EDGETYPE\", PRIMARY_ID_AS_ATTRIBUTE=\"true\"\n",
      "Edge Types:\n",
      "- UNDIRECTED EDGE used_for(FROM Drug, TO Disease)\n",
      "- UNDIRECTED EDGE associated_with(FROM Review, TO Disease)\n",
      "- UNDIRECTED EDGE has_name(FROM Drug, TO BrandName)\n",
      "- UNDIRECTED EDGE has_prescriber_type(FROM Prescriber, TO Prescriber_Type)\n",
      "- UNDIRECTED EDGE prescribed(FROM Prescriber, TO Drug, total_drug_cost FLOAT, total_drug_cost_ge65 FLOAT)\n",
      "- UNDIRECTED EDGE has_review(FROM Drug, TO Review)\n",
      "\n",
      "Graphs:\n",
      "- Graph PrescribedDrugReview(Drug:v, Disease:v, BrandName:v, Prescriber:v, Prescriber_Type:v, Review:v, used_for:e, associated_with:e, has_name:e, has_prescriber_type:e, prescribed:e, has_review:e)\n",
      "Jobs:\n",
      "- CREATE SCHEMA_CHANGE JOB initGraph FOR GRAPH PrescribedDrugReview {\n",
      "ADD VERTEX Drug(PRIMARY_ID generic_name STRING) WITH STATS=\"OUTDEGREE_BY_EDGETYPE\", PRIMARY_ID_AS_ATTRIBUTE=\"true\";\n",
      "ADD VERTEX Disease(PRIMARY_ID disease_name STRING, description STRING) WITH STATS=\"OUTDEGREE_BY_EDGETYPE\", PRIMARY_ID_AS_ATTRIBUTE=\"true\";\n",
      "ADD VERTEX BrandName(PRIMARY_ID name STRING) WITH STATS=\"OUTDEGREE_BY_EDGETYPE\", PRIMARY_ID_AS_ATTRIBUTE=\"true\";\n",
      "ADD VERTEX Prescriber(PRIMARY_ID prescriber_npi STRING, first_name STRING, last_name STRING) WITH STATS=\"OUTDEGREE_BY_EDGETYPE\", PRIMARY_ID_AS_ATTRIBUTE=\"true\";\n",
      "ADD VERTEX Prescriber_Type(PRIMARY_ID prescriber_type STRING) WITH STATS=\"OUTDEGREE_BY_EDGETYPE\", PRIMARY_ID_AS_ATTRIBUTE=\"true\";\n",
      "ADD VERTEX Review(PRIMARY_ID review_id STRING, review STRING, rating INT, date DATETIME) WITH STATS=\"OUTDEGREE_BY_EDGETYPE\", PRIMARY_ID_AS_ATTRIBUTE=\"true\";\n",
      "ADD UNDIRECTED EDGE used_for(FROM Drug, TO Disease);\n",
      "ADD UNDIRECTED EDGE associated_with(FROM Review, TO Disease);\n",
      "ADD UNDIRECTED EDGE has_name(FROM Drug, TO BrandName);\n",
      "ADD UNDIRECTED EDGE has_prescriber_type(FROM Prescriber, TO Prescriber_Type);\n",
      "ADD UNDIRECTED EDGE prescribed(FROM Prescriber, TO Drug, total_drug_cost FLOAT, total_drug_cost_ge65 FLOAT);\n",
      "ADD UNDIRECTED EDGE has_review(FROM Drug, TO Review);\n",
      "}\n",
      "\n",
      "Queries:\n",
      "\n",
      "\n",
      "\n",
      "\n"
     ]
    }
   ],
   "source": [
    "secret = '9tklmj5j3ubcrtr1606mk4hhkb5bcq2j'\n",
    "cred = {\n",
    "    \"host\": \"https://gradient-test.i.tgcloud.io\",\n",
    "    \"graphname\": \"PrescribedDrugReview\",\n",
    "    \"username\": \"tigergraph\",\n",
    "    \"password\": \"Gradient123\"\n",
    "}\n",
    "\n",
    "\n",
    "token, token_life_sec, token_expir_date = tg.TigerGraphConnection(**cred).getToken(secret=\"9tklmj5j3ubcrtr1606mk4hhkb5bcq2j\")\n",
    "\n",
    "cred[\"apiToken\"] = token\n",
    "conn = tg.TigerGraphConnection(**cred)\n",
    "print(conn.gsql('ls')) # test connection"
   ]
  },
  {
   "cell_type": "markdown",
   "id": "bb29cad4",
   "metadata": {},
   "source": [
    "# Create Graph"
   ]
  },
  {
   "cell_type": "code",
   "execution_count": 3,
   "id": "d9f3461b",
   "metadata": {
    "scrolled": true
   },
   "outputs": [
    {
     "name": "stdout",
     "output_type": "stream",
     "text": [
      "The graph PrescribedDrugReview is dropped.\n"
     ]
    }
   ],
   "source": [
    "graph_not_exists_message = f\"Graph name {cred['graphname']} cannot be found. Please provide a valid graph name via 'graph=xxx' parameter string.\"\n",
    "\n",
    "try:\n",
    "    conn.getSchema() # Check if graph exists\n",
    "    #print(conn.gsql(f\"DROP GRAPH {cred['graphname']}\"))\n",
    "except TigerGraphException as e:\n",
    "    print(e.message)"
   ]
  },
  {
   "cell_type": "code",
   "execution_count": 4,
   "id": "159ab79c",
   "metadata": {},
   "outputs": [
    {
     "name": "stdout",
     "output_type": "stream",
     "text": [
      "The graph PrescribedDrugReview is created.\n",
      "Using graph 'PrescribedDrugReview'\n",
      "Successfully created schema change jobs: [initGraph].\n",
      "\n",
      "Current graph version 0\n",
      "Trying to add vertex Drug.\n",
      "Trying to add vertex Disease.\n",
      "Trying to add vertex BrandName.\n",
      "Trying to add vertex Prescriber.\n",
      "Trying to add vertex Prescriber_Type.\n",
      "Trying to add vertex Review.\n",
      "Trying to add edge used_for.\n",
      "Trying to add edge associated_with.\n",
      "Trying to add edge has_name.\n",
      "Trying to add edge has_prescriber_type.\n",
      "Trying to add edge prescribed.\n",
      "Trying to add edge has_review.\n",
      "Kick off job initGraph\n",
      "\n",
      "Graph PrescribedDrugReview update to new version 1\n",
      "The job initGraph completes in 9.525 seconds!\n"
     ]
    }
   ],
   "source": [
    "create_graph_query_fname = f\"../core/graph/create_graph_schema_{cred['graphname']}.gsql\"\n",
    "\n",
    "with open(create_graph_query_fname, \"r\") as f:\n",
    "    create_graph_query = f.read()\n",
    "\n",
    "#print(conn.gsql(create_graph_query))"
   ]
  },
  {
   "cell_type": "markdown",
   "id": "0799246a",
   "metadata": {},
   "source": [
    "# Load Graph"
   ]
  },
  {
   "cell_type": "code",
   "execution_count": 53,
   "id": "b3a9d316",
   "metadata": {},
   "outputs": [],
   "source": [
    "data_dir = '../core/dataset/output'"
   ]
  },
  {
   "cell_type": "markdown",
   "id": "e14536e4",
   "metadata": {},
   "source": [
    "### Load Drug & Brand name vertices & relation"
   ]
  },
  {
   "cell_type": "code",
   "execution_count": 63,
   "id": "58a00df3",
   "metadata": {},
   "outputs": [
    {
     "name": "stdout",
     "output_type": "stream",
     "text": [
      "856\n",
      "1351\n",
      "1381\n"
     ]
    }
   ],
   "source": [
    "drug_df = pd.read_csv(f'{data_dir}/drug-ids.tsv', sep='\\t')\n",
    "\n",
    "print(\n",
    "    conn.upsertVertexDataFrame(\n",
    "        drug_df,\n",
    "        'Drug',\n",
    "        v_id = 'Gnrc_Name',\n",
    "        attributes = {}\n",
    "    )\n",
    ")\n",
    "\n",
    "print(\n",
    "    conn.upsertVertexDataFrame(\n",
    "        drug_df,\n",
    "        'BrandName',\n",
    "        v_id = 'Brnd_Name',\n",
    "        attributes = {}\n",
    "    )\n",
    ")\n",
    "\n",
    "print(\n",
    "    conn.upsertEdgeDataFrame(\n",
    "        drug_df,\n",
    "        'Drug',\n",
    "        'has_name',\n",
    "        'BrandName',\n",
    "        from_id = 'Gnrc_Name',\n",
    "        to_id = 'Brnd_Name',\n",
    "        attributes = {}\n",
    "    )\n",
    ")"
   ]
  },
  {
   "cell_type": "markdown",
   "id": "83ec5094",
   "metadata": {},
   "source": [
    "### Load Prescriber & Type & Prescriber-Drug edges"
   ]
  },
  {
   "cell_type": "code",
   "execution_count": 64,
   "id": "08dc81b1",
   "metadata": {},
   "outputs": [],
   "source": [
    "prescriber_entities_df = pd.read_csv(f'{data_dir}/prescriber.tsv', sep='\\t')\n",
    "prescriber_type_df = pd.read_csv(f'{data_dir}/prescriber-type.tsv', sep='\\t')\n",
    "unique_prescriber_type_df = pd.read_csv(f'{data_dir}/unique_prescriber_type.tsv', sep='\\t')\n",
    "prescriber_drug_cost_edge_df = pd.read_csv(f'{data_dir}/prescriber-drug.tsv', sep='\\t')"
   ]
  },
  {
   "cell_type": "code",
   "execution_count": 10,
   "id": "greenhouse-battlefield",
   "metadata": {},
   "outputs": [
    {
     "data": {
      "text/html": [
       "<div>\n",
       "<style scoped>\n",
       "    .dataframe tbody tr th:only-of-type {\n",
       "        vertical-align: middle;\n",
       "    }\n",
       "\n",
       "    .dataframe tbody tr th {\n",
       "        vertical-align: top;\n",
       "    }\n",
       "\n",
       "    .dataframe thead th {\n",
       "        text-align: right;\n",
       "    }\n",
       "</style>\n",
       "<table border=\"1\" class=\"dataframe\">\n",
       "  <thead>\n",
       "    <tr style=\"text-align: right;\">\n",
       "      <th></th>\n",
       "      <th>Prscrbr_NPI</th>\n",
       "      <th>Prscrbr_Last_Org_Name</th>\n",
       "      <th>Prscrbr_First_Name</th>\n",
       "    </tr>\n",
       "  </thead>\n",
       "  <tbody>\n",
       "    <tr>\n",
       "      <th>0</th>\n",
       "      <td>1003000126</td>\n",
       "      <td>Enkeshafi</td>\n",
       "      <td>Ardalan</td>\n",
       "    </tr>\n",
       "    <tr>\n",
       "      <th>1</th>\n",
       "      <td>1003000142</td>\n",
       "      <td>Khalil</td>\n",
       "      <td>Rashid</td>\n",
       "    </tr>\n",
       "    <tr>\n",
       "      <th>2</th>\n",
       "      <td>1003000167</td>\n",
       "      <td>Escobar</td>\n",
       "      <td>Julio</td>\n",
       "    </tr>\n",
       "    <tr>\n",
       "      <th>3</th>\n",
       "      <td>1003000282</td>\n",
       "      <td>Blakemore</td>\n",
       "      <td>Rosie</td>\n",
       "    </tr>\n",
       "    <tr>\n",
       "      <th>4</th>\n",
       "      <td>1003000423</td>\n",
       "      <td>Velotta</td>\n",
       "      <td>Jennifer</td>\n",
       "    </tr>\n",
       "    <tr>\n",
       "      <th>...</th>\n",
       "      <td>...</td>\n",
       "      <td>...</td>\n",
       "      <td>...</td>\n",
       "    </tr>\n",
       "    <tr>\n",
       "      <th>882871</th>\n",
       "      <td>1992999650</td>\n",
       "      <td>Yong</td>\n",
       "      <td>Wayne</td>\n",
       "    </tr>\n",
       "    <tr>\n",
       "      <th>882872</th>\n",
       "      <td>1992999759</td>\n",
       "      <td>Soriano</td>\n",
       "      <td>Dino</td>\n",
       "    </tr>\n",
       "    <tr>\n",
       "      <th>882873</th>\n",
       "      <td>1992999825</td>\n",
       "      <td>Deschenes</td>\n",
       "      <td>Geoffrey</td>\n",
       "    </tr>\n",
       "    <tr>\n",
       "      <th>882874</th>\n",
       "      <td>1992999833</td>\n",
       "      <td>Shaw</td>\n",
       "      <td>L. Noah</td>\n",
       "    </tr>\n",
       "    <tr>\n",
       "      <th>882875</th>\n",
       "      <td>1992999874</td>\n",
       "      <td>Joffe</td>\n",
       "      <td>Gabriella</td>\n",
       "    </tr>\n",
       "  </tbody>\n",
       "</table>\n",
       "<p>882876 rows × 3 columns</p>\n",
       "</div>"
      ],
      "text/plain": [
       "        Prscrbr_NPI Prscrbr_Last_Org_Name Prscrbr_First_Name\n",
       "0        1003000126             Enkeshafi            Ardalan\n",
       "1        1003000142                Khalil             Rashid\n",
       "2        1003000167               Escobar              Julio\n",
       "3        1003000282             Blakemore              Rosie\n",
       "4        1003000423               Velotta           Jennifer\n",
       "...             ...                   ...                ...\n",
       "882871   1992999650                  Yong              Wayne\n",
       "882872   1992999759               Soriano               Dino\n",
       "882873   1992999825             Deschenes           Geoffrey\n",
       "882874   1992999833                  Shaw            L. Noah\n",
       "882875   1992999874                 Joffe          Gabriella\n",
       "\n",
       "[882876 rows x 3 columns]"
      ]
     },
     "execution_count": 10,
     "metadata": {},
     "output_type": "execute_result"
    }
   ],
   "source": [
    "unique_prescriber_type_df"
   ]
  },
  {
   "cell_type": "code",
   "execution_count": 11,
   "id": "checked-charter",
   "metadata": {},
   "outputs": [
    {
     "data": {
      "text/plain": [
       "882876"
      ]
     },
     "execution_count": 11,
     "metadata": {},
     "output_type": "execute_result"
    }
   ],
   "source": [
    "conn.upsertVertexDataFrame(\n",
    "    prescriber_entities_df,\n",
    "    'Prescriber',\n",
    "    v_id = 'Prscrbr_NPI',\n",
    "    attributes = {\n",
    "        'first_name': 'Prscrbr_First_Name',\n",
    "        'last_name': 'Prscrbr_Last_Org_Name'\n",
    "    }\n",
    ")"
   ]
  },
  {
   "cell_type": "code",
   "execution_count": 12,
   "id": "6f0781ef",
   "metadata": {},
   "outputs": [
    {
     "data": {
      "text/plain": [
       "172"
      ]
     },
     "execution_count": 12,
     "metadata": {},
     "output_type": "execute_result"
    }
   ],
   "source": [
    "conn.upsertVertexDataFrame(\n",
    "    unique_prescriber_type_df,\n",
    "    'Prescriber_Type',\n",
    "    v_id = 'Prscrbr_Type',\n",
    "    attributes = {}\n",
    ")"
   ]
  },
  {
   "cell_type": "code",
   "execution_count": 21,
   "id": "4706cbf1",
   "metadata": {},
   "outputs": [
    {
     "name": "stderr",
     "output_type": "stream",
     "text": [
      "100%|██████████| 1167/1167 [36:09<00:00,  1.86s/it]\n"
     ]
    }
   ],
   "source": [
    "num_batches = int(np.ceil(prescriber_type_df.shape[0] / batch_size))\n",
    "for i in tqdm(range(num_batches)):\n",
    "    conn.upsertEdgeDataFrame(\n",
    "        prescriber_type_df[batch_size*i:batch_size*(i+1)],\n",
    "        'Prescriber',\n",
    "        'has_prescriber_type',\n",
    "        'Prescriber_Type',\n",
    "        from_id = 'Prscrbr_NPI',\n",
    "        to_id = 'Prscrbr_Type',\n",
    "        attributes = {}\n",
    "    )"
   ]
  },
  {
   "cell_type": "code",
   "execution_count": 76,
   "id": "6990f7bc",
   "metadata": {},
   "outputs": [
    {
     "name": "stderr",
     "output_type": "stream",
     "text": [
      "100%|██████████| 1167/1167 [50:40<00:00,  2.61s/it]\n"
     ]
    }
   ],
   "source": [
    "num_batches = int(np.ceil(prescriber_drug_cost_edge_df.shape[0] / batch_size))\n",
    "for i in tqdm(range(num_batches)):\n",
    "    conn.upsertEdgeDataFrame(\n",
    "        prescriber_drug_cost_edge_df[batch_size*i:batch_size*(i+1)],\n",
    "        'Prescriber',\n",
    "        'prescribed',\n",
    "        'Drug',\n",
    "        from_id = 'Prscrbr_NPI',\n",
    "        to_id = 'Gnrc_Name',\n",
    "        attributes = {\n",
    "            'total_drug_cost': 'Tot_Drug_Cst',\n",
    "            'total_drug_cost_ge65': 'GE65_Tot_Drug_Cst'\n",
    "        }\n",
    "    )"
   ]
  },
  {
   "cell_type": "markdown",
   "id": "ebbeee4e",
   "metadata": {},
   "source": [
    "### Load Disease Vertices"
   ]
  },
  {
   "cell_type": "code",
   "execution_count": 68,
   "id": "ca32c740",
   "metadata": {},
   "outputs": [],
   "source": [
    "conditions_df = pd.read_csv(f'{data_dir}/disease-names.tsv', sep='\\t')\n",
    "used_for_df = pd.read_csv(f'{data_dir}/drug-disease.tsv', sep='\\t')"
   ]
  },
  {
   "cell_type": "code",
   "execution_count": 69,
   "id": "concerned-impression",
   "metadata": {},
   "outputs": [
    {
     "name": "stdout",
     "output_type": "stream",
     "text": [
      "836\n"
     ]
    }
   ],
   "source": [
    "print(\n",
    "    conn.upsertVertexDataFrame(\n",
    "        conditions_df,\n",
    "        'Disease',\n",
    "        v_id = 'condition',\n",
    "        attributes = {}\n",
    "    )\n",
    ")"
   ]
  },
  {
   "cell_type": "code",
   "execution_count": 70,
   "id": "outstanding-compact",
   "metadata": {},
   "outputs": [
    {
     "name": "stdout",
     "output_type": "stream",
     "text": [
      "2858\n"
     ]
    }
   ],
   "source": [
    "print(\n",
    "conn.upsertEdgeDataFrame(\n",
    "    used_for_df,\n",
    "    'Drug',\n",
    "    'used_for',\n",
    "    'Disease',\n",
    "    from_id = 'Gnrc_Name',\n",
    "    to_id = 'condition',\n",
    "    attributes = {}\n",
    "))"
   ]
  },
  {
   "cell_type": "markdown",
   "id": "9bf89dd6",
   "metadata": {},
   "source": [
    "### Load Review Nodes & Edges"
   ]
  },
  {
   "cell_type": "code",
   "execution_count": 71,
   "id": "b34f4b05",
   "metadata": {},
   "outputs": [],
   "source": [
    "reviews_df = pd.read_csv(f'{data_dir}/review.tsv', sep='\\t')\n",
    "review_drug_df = pd.read_csv(f'{data_dir}/drug-review.tsv', sep='\\t')\n",
    "review_disease_df = pd.read_csv(f'{data_dir}/disease-review.tsv', sep='\\t')"
   ]
  },
  {
   "cell_type": "code",
   "execution_count": 72,
   "id": "ac4abbc8",
   "metadata": {
    "scrolled": false
   },
   "outputs": [
    {
     "data": {
      "text/html": [
       "<div>\n",
       "<style scoped>\n",
       "    .dataframe tbody tr th:only-of-type {\n",
       "        vertical-align: middle;\n",
       "    }\n",
       "\n",
       "    .dataframe tbody tr th {\n",
       "        vertical-align: top;\n",
       "    }\n",
       "\n",
       "    .dataframe thead th {\n",
       "        text-align: right;\n",
       "    }\n",
       "</style>\n",
       "<table border=\"1\" class=\"dataframe\">\n",
       "  <thead>\n",
       "    <tr style=\"text-align: right;\">\n",
       "      <th></th>\n",
       "      <th>review_id</th>\n",
       "      <th>review</th>\n",
       "      <th>rating</th>\n",
       "      <th>date</th>\n",
       "    </tr>\n",
       "  </thead>\n",
       "  <tbody>\n",
       "    <tr>\n",
       "      <th>0</th>\n",
       "      <td>0</td>\n",
       "      <td>\"It has no side effect, I take it in combinati...</td>\n",
       "      <td>9</td>\n",
       "      <td>2012-05-20</td>\n",
       "    </tr>\n",
       "    <tr>\n",
       "      <th>1</th>\n",
       "      <td>1</td>\n",
       "      <td>\"2nd day on 5mg started to work with rock hard...</td>\n",
       "      <td>2</td>\n",
       "      <td>2015-11-28</td>\n",
       "    </tr>\n",
       "  </tbody>\n",
       "</table>\n",
       "</div>"
      ],
      "text/plain": [
       "   review_id                                             review  rating  \\\n",
       "0          0  \"It has no side effect, I take it in combinati...       9   \n",
       "1          1  \"2nd day on 5mg started to work with rock hard...       2   \n",
       "\n",
       "         date  \n",
       "0  2012-05-20  \n",
       "1  2015-11-28  "
      ]
     },
     "execution_count": 72,
     "metadata": {},
     "output_type": "execute_result"
    }
   ],
   "source": [
    "reviews_df = reviews_df.astype({'rating': int})\n",
    "reviews_df['date'] = pd.to_datetime(reviews_df['date']).astype(str)\n",
    "reviews_df.iloc[:2]"
   ]
  },
  {
   "cell_type": "code",
   "execution_count": 73,
   "id": "7828beb7",
   "metadata": {
    "scrolled": true
   },
   "outputs": [
    {
     "name": "stderr",
     "output_type": "stream",
     "text": [
      " 10%|█         | 1/10 [00:04<00:42,  4.73s/it]"
     ]
    },
    {
     "name": "stdout",
     "output_type": "stream",
     "text": [
      "10000\n"
     ]
    },
    {
     "name": "stderr",
     "output_type": "stream",
     "text": [
      "\r",
      " 20%|██        | 2/10 [00:08<00:35,  4.40s/it]"
     ]
    },
    {
     "name": "stdout",
     "output_type": "stream",
     "text": [
      "10000\n"
     ]
    },
    {
     "name": "stderr",
     "output_type": "stream",
     "text": [
      "\r",
      " 30%|███       | 3/10 [00:12<00:28,  4.14s/it]"
     ]
    },
    {
     "name": "stdout",
     "output_type": "stream",
     "text": [
      "10000\n"
     ]
    },
    {
     "name": "stderr",
     "output_type": "stream",
     "text": [
      "\r",
      " 40%|████      | 4/10 [00:16<00:23,  3.90s/it]"
     ]
    },
    {
     "name": "stdout",
     "output_type": "stream",
     "text": [
      "10000\n"
     ]
    },
    {
     "name": "stderr",
     "output_type": "stream",
     "text": [
      "\r",
      " 50%|█████     | 5/10 [00:19<00:18,  3.71s/it]"
     ]
    },
    {
     "name": "stdout",
     "output_type": "stream",
     "text": [
      "10000\n"
     ]
    },
    {
     "name": "stderr",
     "output_type": "stream",
     "text": [
      "\r",
      " 60%|██████    | 6/10 [00:22<00:13,  3.38s/it]"
     ]
    },
    {
     "name": "stdout",
     "output_type": "stream",
     "text": [
      "10000\n"
     ]
    },
    {
     "name": "stderr",
     "output_type": "stream",
     "text": [
      "\r",
      " 70%|███████   | 7/10 [00:25<00:09,  3.21s/it]"
     ]
    },
    {
     "name": "stdout",
     "output_type": "stream",
     "text": [
      "10000\n"
     ]
    },
    {
     "name": "stderr",
     "output_type": "stream",
     "text": [
      "\r",
      " 80%|████████  | 8/10 [00:28<00:06,  3.08s/it]"
     ]
    },
    {
     "name": "stdout",
     "output_type": "stream",
     "text": [
      "10000\n"
     ]
    },
    {
     "name": "stderr",
     "output_type": "stream",
     "text": [
      "\r",
      " 90%|█████████ | 9/10 [00:31<00:03,  3.21s/it]"
     ]
    },
    {
     "name": "stdout",
     "output_type": "stream",
     "text": [
      "10000\n"
     ]
    },
    {
     "name": "stderr",
     "output_type": "stream",
     "text": [
      "100%|██████████| 10/10 [00:32<00:00,  3.26s/it]"
     ]
    },
    {
     "name": "stdout",
     "output_type": "stream",
     "text": [
      "1047\n"
     ]
    },
    {
     "name": "stderr",
     "output_type": "stream",
     "text": [
      "\n"
     ]
    }
   ],
   "source": [
    "num_batches = int(np.ceil(reviews_df.shape[0] / batch_size))\n",
    "for i in tqdm(range(num_batches)):\n",
    "    print(conn.upsertVertexDataFrame(\n",
    "        reviews_df[batch_size*i:batch_size*(i+1)],\n",
    "        'Review',\n",
    "        v_id = 'review_id',\n",
    "        attributes={\n",
    "            'review': 'review',\n",
    "            'rating': 'rating',\n",
    "            'date': 'date'\n",
    "        }\n",
    "    ))"
   ]
  },
  {
   "cell_type": "code",
   "execution_count": 74,
   "id": "37af40cb",
   "metadata": {
    "scrolled": true
   },
   "outputs": [
    {
     "name": "stderr",
     "output_type": "stream",
     "text": [
      " 10%|█         | 1/10 [00:01<00:14,  1.59s/it]"
     ]
    },
    {
     "name": "stdout",
     "output_type": "stream",
     "text": [
      "10000\n"
     ]
    },
    {
     "name": "stderr",
     "output_type": "stream",
     "text": [
      "\r",
      " 20%|██        | 2/10 [00:03<00:13,  1.63s/it]"
     ]
    },
    {
     "name": "stdout",
     "output_type": "stream",
     "text": [
      "10000\n"
     ]
    },
    {
     "name": "stderr",
     "output_type": "stream",
     "text": [
      "\r",
      " 30%|███       | 3/10 [00:04<00:11,  1.59s/it]"
     ]
    },
    {
     "name": "stdout",
     "output_type": "stream",
     "text": [
      "10000\n"
     ]
    },
    {
     "name": "stderr",
     "output_type": "stream",
     "text": [
      "\r",
      " 40%|████      | 4/10 [00:06<00:09,  1.60s/it]"
     ]
    },
    {
     "name": "stdout",
     "output_type": "stream",
     "text": [
      "10000\n"
     ]
    },
    {
     "name": "stderr",
     "output_type": "stream",
     "text": [
      "\r",
      " 50%|█████     | 5/10 [00:07<00:07,  1.59s/it]"
     ]
    },
    {
     "name": "stdout",
     "output_type": "stream",
     "text": [
      "10000\n"
     ]
    },
    {
     "name": "stderr",
     "output_type": "stream",
     "text": [
      "\r",
      " 60%|██████    | 6/10 [00:09<00:06,  1.59s/it]"
     ]
    },
    {
     "name": "stdout",
     "output_type": "stream",
     "text": [
      "10000\n"
     ]
    },
    {
     "name": "stderr",
     "output_type": "stream",
     "text": [
      "\r",
      " 70%|███████   | 7/10 [00:11<00:04,  1.60s/it]"
     ]
    },
    {
     "name": "stdout",
     "output_type": "stream",
     "text": [
      "10000\n"
     ]
    },
    {
     "name": "stderr",
     "output_type": "stream",
     "text": [
      "\r",
      " 80%|████████  | 8/10 [00:12<00:03,  1.60s/it]"
     ]
    },
    {
     "name": "stdout",
     "output_type": "stream",
     "text": [
      "10000\n"
     ]
    },
    {
     "name": "stderr",
     "output_type": "stream",
     "text": [
      "\r",
      " 90%|█████████ | 9/10 [00:14<00:01,  1.57s/it]"
     ]
    },
    {
     "name": "stdout",
     "output_type": "stream",
     "text": [
      "10000\n"
     ]
    },
    {
     "name": "stderr",
     "output_type": "stream",
     "text": [
      "100%|██████████| 10/10 [00:14<00:00,  1.48s/it]"
     ]
    },
    {
     "name": "stdout",
     "output_type": "stream",
     "text": [
      "1047\n"
     ]
    },
    {
     "name": "stderr",
     "output_type": "stream",
     "text": [
      "\n"
     ]
    }
   ],
   "source": [
    "num_batches = int(np.ceil(review_drug_df.shape[0] / batch_size))\n",
    "for i in tqdm(range(num_batches)):\n",
    "    print(conn.upsertEdgeDataFrame(\n",
    "        review_drug_df[batch_size*i:batch_size*(i+1)],\n",
    "        'Drug',\n",
    "        'has_review',\n",
    "        'Review',\n",
    "        from_id = 'Gnrc_Name',\n",
    "        to_id = 'review_id',\n",
    "        attributes={}\n",
    "    ))"
   ]
  },
  {
   "cell_type": "code",
   "execution_count": 75,
   "id": "9a8cc2ce",
   "metadata": {},
   "outputs": [
    {
     "name": "stderr",
     "output_type": "stream",
     "text": [
      " 10%|█         | 1/10 [00:01<00:17,  1.92s/it]"
     ]
    },
    {
     "name": "stdout",
     "output_type": "stream",
     "text": [
      "10000\n"
     ]
    },
    {
     "name": "stderr",
     "output_type": "stream",
     "text": [
      "\r",
      " 20%|██        | 2/10 [00:03<00:15,  1.88s/it]"
     ]
    },
    {
     "name": "stdout",
     "output_type": "stream",
     "text": [
      "10000\n"
     ]
    },
    {
     "name": "stderr",
     "output_type": "stream",
     "text": [
      "\r",
      " 30%|███       | 3/10 [00:05<00:13,  1.92s/it]"
     ]
    },
    {
     "name": "stdout",
     "output_type": "stream",
     "text": [
      "10000\n"
     ]
    },
    {
     "name": "stderr",
     "output_type": "stream",
     "text": [
      "\r",
      " 40%|████      | 4/10 [00:07<00:11,  1.90s/it]"
     ]
    },
    {
     "name": "stdout",
     "output_type": "stream",
     "text": [
      "10000\n"
     ]
    },
    {
     "name": "stderr",
     "output_type": "stream",
     "text": [
      "\r",
      " 50%|█████     | 5/10 [00:09<00:09,  1.92s/it]"
     ]
    },
    {
     "name": "stdout",
     "output_type": "stream",
     "text": [
      "10000\n"
     ]
    },
    {
     "name": "stderr",
     "output_type": "stream",
     "text": [
      "\r",
      " 60%|██████    | 6/10 [00:11<00:07,  1.90s/it]"
     ]
    },
    {
     "name": "stdout",
     "output_type": "stream",
     "text": [
      "10000\n"
     ]
    },
    {
     "name": "stderr",
     "output_type": "stream",
     "text": [
      "\r",
      " 70%|███████   | 7/10 [00:13<00:06,  2.02s/it]"
     ]
    },
    {
     "name": "stdout",
     "output_type": "stream",
     "text": [
      "10000\n"
     ]
    },
    {
     "name": "stderr",
     "output_type": "stream",
     "text": [
      "\r",
      " 80%|████████  | 8/10 [00:15<00:04,  2.09s/it]"
     ]
    },
    {
     "name": "stdout",
     "output_type": "stream",
     "text": [
      "10000\n"
     ]
    },
    {
     "name": "stderr",
     "output_type": "stream",
     "text": [
      "\r",
      " 90%|█████████ | 9/10 [00:18<00:02,  2.15s/it]"
     ]
    },
    {
     "name": "stdout",
     "output_type": "stream",
     "text": [
      "10000\n"
     ]
    },
    {
     "name": "stderr",
     "output_type": "stream",
     "text": [
      "100%|██████████| 10/10 [00:18<00:00,  1.89s/it]"
     ]
    },
    {
     "name": "stdout",
     "output_type": "stream",
     "text": [
      "1047\n"
     ]
    },
    {
     "name": "stderr",
     "output_type": "stream",
     "text": [
      "\n"
     ]
    }
   ],
   "source": [
    "num_batches = int(np.ceil(review_disease_df.shape[0] / batch_size))\n",
    "for i in tqdm(range(num_batches)):\n",
    "    print(conn.upsertEdgeDataFrame(\n",
    "        review_disease_df[batch_size*i:batch_size*(i+1)],\n",
    "        'Review',\n",
    "        'associated_with',\n",
    "        'Disease',\n",
    "        from_id = 'review_id',\n",
    "        to_id = 'condition',\n",
    "        attributes={}\n",
    "    ))"
   ]
  }
 ],
 "metadata": {
  "kernelspec": {
   "display_name": "Python 3",
   "language": "python",
   "name": "python3"
  },
  "language_info": {
   "codemirror_mode": {
    "name": "ipython",
    "version": 3
   },
   "file_extension": ".py",
   "mimetype": "text/x-python",
   "name": "python",
   "nbconvert_exporter": "python",
   "pygments_lexer": "ipython3",
   "version": "3.9.7"
  }
 },
 "nbformat": 4,
 "nbformat_minor": 5
}
