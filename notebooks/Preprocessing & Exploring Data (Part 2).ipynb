{
 "cells": [
  {
   "cell_type": "code",
   "execution_count": 1,
   "id": "35a3fa4d",
   "metadata": {},
   "outputs": [],
   "source": [
    "from IPython.display import display\n",
    "import pandas as pd\n",
    "from pandasql import sqldf\n",
    "pysqldf = lambda q: sqldf(q, globals())"
   ]
  },
  {
   "cell_type": "code",
   "execution_count": 2,
   "id": "2da74f8d",
   "metadata": {},
   "outputs": [],
   "source": [
    "data_dir = '../core/dataset'\n",
    "pd.options.display.max_colwidth = None"
   ]
  },
  {
   "cell_type": "markdown",
   "id": "c854a4eb",
   "metadata": {},
   "source": [
    "## Load & Format Data"
   ]
  },
  {
   "cell_type": "markdown",
   "id": "9b7067ea",
   "metadata": {},
   "source": [
    "# Prescriber Drug Dataset"
   ]
  },
  {
   "cell_type": "code",
   "execution_count": 18,
   "id": "378baa0d",
   "metadata": {},
   "outputs": [],
   "source": [
    "prescriber_drug_names_df = pd.read_csv(f'{data_dir}/input/Medicare_Part_D_Prescribers_by_Provider_and_Drug_2019.csv')\n",
    "prescriber_drug_names_df['GE65_Tot_Drug_Cst'].fillna(-1, inplace=True)"
   ]
  },
  {
   "cell_type": "code",
   "execution_count": 26,
   "id": "61e885f1",
   "metadata": {
    "scrolled": true
   },
   "outputs": [
    {
     "data": {
      "text/plain": [
       "Prscrbr_NPI              0\n",
       "Prscrbr_Last_Org_Name    0\n",
       "Prscrbr_First_Name       0\n",
       "Prscrbr_Type             2\n",
       "Brnd_Name                0\n",
       "Gnrc_Name                0\n",
       "Tot_Drug_Cst             0\n",
       "GE65_Tot_Drug_Cst        0\n",
       "dtype: int64"
      ]
     },
     "execution_count": 26,
     "metadata": {},
     "output_type": "execute_result"
    }
   ],
   "source": [
    "prescriber_drug_names_df.isna().sum(axis=0)"
   ]
  },
  {
   "cell_type": "markdown",
   "id": "3be57120",
   "metadata": {},
   "source": [
    "# Drug Rating Dataset"
   ]
  },
  {
   "cell_type": "code",
   "execution_count": 3,
   "id": "e537cfef",
   "metadata": {
    "scrolled": true
   },
   "outputs": [
    {
     "data": {
      "text/html": [
       "<div>\n",
       "<style scoped>\n",
       "    .dataframe tbody tr th:only-of-type {\n",
       "        vertical-align: middle;\n",
       "    }\n",
       "\n",
       "    .dataframe tbody tr th {\n",
       "        vertical-align: top;\n",
       "    }\n",
       "\n",
       "    .dataframe thead th {\n",
       "        text-align: right;\n",
       "    }\n",
       "</style>\n",
       "<table border=\"1\" class=\"dataframe\">\n",
       "  <thead>\n",
       "    <tr style=\"text-align: right;\">\n",
       "      <th></th>\n",
       "      <th>drugName</th>\n",
       "      <th>condition</th>\n",
       "      <th>review</th>\n",
       "      <th>rating</th>\n",
       "      <th>date</th>\n",
       "    </tr>\n",
       "  </thead>\n",
       "  <tbody>\n",
       "    <tr>\n",
       "      <th>0</th>\n",
       "      <td>Valsartan</td>\n",
       "      <td>Left Ventricular Dysfunction</td>\n",
       "      <td>\"It has no side effect, I take it in combination of Bystolic 5 Mg and Fish Oil\"</td>\n",
       "      <td>9.0</td>\n",
       "      <td>May 20, 2012</td>\n",
       "    </tr>\n",
       "    <tr>\n",
       "      <th>1</th>\n",
       "      <td>Guanfacine</td>\n",
       "      <td>ADHD</td>\n",
       "      <td>\"My son is halfway through his fourth week of Intuniv. We became concerned when he began this last week, when he started taking the highest dose he will be on. For two days, he could hardly get out of bed, was very cranky, and slept for nearly 8 hours on a drive home from school vacation (very unusual for him.) I called his doctor on Monday morning and she said to stick it out a few days. See how he did at school, and with getting up in the morning. The last two days have been problem free. He is MUCH more agreeable than ever. He is less emotional (a good thing), less cranky. He is remembering all the things he should. Overall his behavior is better. \\r\\nWe have tried many different medications and so far this is the most effective.\"</td>\n",
       "      <td>8.0</td>\n",
       "      <td>April 27, 2010</td>\n",
       "    </tr>\n",
       "  </tbody>\n",
       "</table>\n",
       "</div>"
      ],
      "text/plain": [
       "     drugName                     condition  \\\n",
       "0   Valsartan  Left Ventricular Dysfunction   \n",
       "1  Guanfacine                          ADHD   \n",
       "\n",
       "                                                                                                                                                                                                                                                                                                                                                                                                                                                                                                                                                                                                                                                                                                                                                                    review  \\\n",
       "0                                                                                                                                                                                                                                                                                                                                                                                                                                                                                                                                                                                                                                                                                          \"It has no side effect, I take it in combination of Bystolic 5 Mg and Fish Oil\"   \n",
       "1  \"My son is halfway through his fourth week of Intuniv. We became concerned when he began this last week, when he started taking the highest dose he will be on. For two days, he could hardly get out of bed, was very cranky, and slept for nearly 8 hours on a drive home from school vacation (very unusual for him.) I called his doctor on Monday morning and she said to stick it out a few days. See how he did at school, and with getting up in the morning. The last two days have been problem free. He is MUCH more agreeable than ever. He is less emotional (a good thing), less cranky. He is remembering all the things he should. Overall his behavior is better. \\r\\nWe have tried many different medications and so far this is the most effective.\"   \n",
       "\n",
       "   rating            date  \n",
       "0     9.0    May 20, 2012  \n",
       "1     8.0  April 27, 2010  "
      ]
     },
     "execution_count": 3,
     "metadata": {},
     "output_type": "execute_result"
    }
   ],
   "source": [
    "drug_ratings_train_df = pd.read_csv(f'{data_dir}/input/drugsComTrain_raw.tsv', sep='\\t')\n",
    "drug_ratings_test_df = pd.read_csv(f'{data_dir}/input/drugsComTest_raw.tsv', sep='\\t')\n",
    "\n",
    "drug_ratings_df = pd.concat((drug_ratings_train_df, drug_ratings_test_df))\n",
    "drug_ratings_df.drop(['Unnamed: 0', 'usefulCount'], axis=1, inplace=True)\n",
    "drug_ratings_df.dropna(inplace=True)\n",
    "drug_ratings_df = drug_ratings_df[~drug_ratings_df['condition'].str.match('\\d*</span>')]\n",
    "drug_ratings_df.iloc[:2]"
   ]
  },
  {
   "cell_type": "code",
   "execution_count": 4,
   "id": "16c18e59",
   "metadata": {},
   "outputs": [
    {
     "ename": "AttributeError",
     "evalue": "'Series' object has no attribute 'range'",
     "output_type": "error",
     "traceback": [
      "\u001b[0;31m---------------------------------------------------------------------------\u001b[0m",
      "\u001b[0;31mAttributeError\u001b[0m                            Traceback (most recent call last)",
      "Input \u001b[0;32mIn [4]\u001b[0m, in \u001b[0;36m<cell line: 1>\u001b[0;34m()\u001b[0m\n\u001b[0;32m----> 1\u001b[0m \u001b[43mdrug_ratings_df\u001b[49m\u001b[43m[\u001b[49m\u001b[38;5;124;43m'\u001b[39;49m\u001b[38;5;124;43mrating\u001b[39;49m\u001b[38;5;124;43m'\u001b[39;49m\u001b[43m]\u001b[49m\u001b[38;5;241;43m.\u001b[39;49m\u001b[43mrange\u001b[49m()\n",
      "File \u001b[0;32m~/anaconda3/envs/gradient/lib/python3.9/site-packages/pandas/core/generic.py:5575\u001b[0m, in \u001b[0;36mNDFrame.__getattr__\u001b[0;34m(self, name)\u001b[0m\n\u001b[1;32m   5568\u001b[0m \u001b[38;5;28;01mif\u001b[39;00m (\n\u001b[1;32m   5569\u001b[0m     name \u001b[38;5;129;01mnot\u001b[39;00m \u001b[38;5;129;01min\u001b[39;00m \u001b[38;5;28mself\u001b[39m\u001b[38;5;241m.\u001b[39m_internal_names_set\n\u001b[1;32m   5570\u001b[0m     \u001b[38;5;129;01mand\u001b[39;00m name \u001b[38;5;129;01mnot\u001b[39;00m \u001b[38;5;129;01min\u001b[39;00m \u001b[38;5;28mself\u001b[39m\u001b[38;5;241m.\u001b[39m_metadata\n\u001b[1;32m   5571\u001b[0m     \u001b[38;5;129;01mand\u001b[39;00m name \u001b[38;5;129;01mnot\u001b[39;00m \u001b[38;5;129;01min\u001b[39;00m \u001b[38;5;28mself\u001b[39m\u001b[38;5;241m.\u001b[39m_accessors\n\u001b[1;32m   5572\u001b[0m     \u001b[38;5;129;01mand\u001b[39;00m \u001b[38;5;28mself\u001b[39m\u001b[38;5;241m.\u001b[39m_info_axis\u001b[38;5;241m.\u001b[39m_can_hold_identifiers_and_holds_name(name)\n\u001b[1;32m   5573\u001b[0m ):\n\u001b[1;32m   5574\u001b[0m     \u001b[38;5;28;01mreturn\u001b[39;00m \u001b[38;5;28mself\u001b[39m[name]\n\u001b[0;32m-> 5575\u001b[0m \u001b[38;5;28;01mreturn\u001b[39;00m \u001b[38;5;28;43mobject\u001b[39;49m\u001b[38;5;241;43m.\u001b[39;49m\u001b[38;5;21;43m__getattribute__\u001b[39;49m\u001b[43m(\u001b[49m\u001b[38;5;28;43mself\u001b[39;49m\u001b[43m,\u001b[49m\u001b[43m \u001b[49m\u001b[43mname\u001b[49m\u001b[43m)\u001b[49m\n",
      "\u001b[0;31mAttributeError\u001b[0m: 'Series' object has no attribute 'range'"
     ]
    }
   ],
   "source": [
    "drug_ratings_df['rating'].range()"
   ]
  },
  {
   "cell_type": "markdown",
   "id": "d52b2444",
   "metadata": {},
   "source": [
    "# Drug Information"
   ]
  },
  {
   "cell_type": "markdown",
   "id": "26a844a7",
   "metadata": {},
   "source": [
    "### Get all rows for prescriber drugs that have ratings"
   ]
  },
  {
   "cell_type": "code",
   "execution_count": 43,
   "id": "645ad3a4",
   "metadata": {
    "scrolled": true
   },
   "outputs": [],
   "source": [
    "brnd_name_overlap = prescriber_drug_names_df['Brnd_Name'].isin(set(drug_ratings_df['drugName']))\n",
    "gnrc_name_overlap = prescriber_drug_names_df['Gnrc_Name'].isin(set(drug_ratings_df['drugName']))\n",
    "\n",
    "filtered_prescriber_drug_names_df = prescriber_drug_names_df[brnd_name_overlap | gnrc_name_overlap]\n",
    "filtered_prescriber_drug_names_df.index.name = 'drug_id'"
   ]
  },
  {
   "cell_type": "markdown",
   "id": "93a1271d",
   "metadata": {},
   "source": [
    "### Get list of unique prescribed drugs"
   ]
  },
  {
   "cell_type": "code",
   "execution_count": 44,
   "id": "93d11098",
   "metadata": {},
   "outputs": [],
   "source": [
    "unique_drug_names_df = filtered_prescriber_drug_names_df[['Brnd_Name', 'Gnrc_Name']].drop_duplicates().reset_index()\n",
    "unique_drug_names_df.drop('drug_id', axis=1, inplace=True)\n",
    "unique_drug_names_df.index.name = 'drug_id'"
   ]
  },
  {
   "cell_type": "code",
   "execution_count": 45,
   "id": "d4a93dd5",
   "metadata": {
    "scrolled": true
   },
   "outputs": [
    {
     "data": {
      "text/html": [
       "<div>\n",
       "<style scoped>\n",
       "    .dataframe tbody tr th:only-of-type {\n",
       "        vertical-align: middle;\n",
       "    }\n",
       "\n",
       "    .dataframe tbody tr th {\n",
       "        vertical-align: top;\n",
       "    }\n",
       "\n",
       "    .dataframe thead th {\n",
       "        text-align: right;\n",
       "    }\n",
       "</style>\n",
       "<table border=\"1\" class=\"dataframe\">\n",
       "  <thead>\n",
       "    <tr style=\"text-align: right;\">\n",
       "      <th></th>\n",
       "      <th>Brnd_Name</th>\n",
       "      <th>Gnrc_Name</th>\n",
       "    </tr>\n",
       "    <tr>\n",
       "      <th>drug_id</th>\n",
       "      <th></th>\n",
       "      <th></th>\n",
       "    </tr>\n",
       "  </thead>\n",
       "  <tbody>\n",
       "    <tr>\n",
       "      <th>0</th>\n",
       "      <td>Azithromycin</td>\n",
       "      <td>Azithromycin</td>\n",
       "    </tr>\n",
       "    <tr>\n",
       "      <th>1</th>\n",
       "      <td>Carvedilol</td>\n",
       "      <td>Carvedilol</td>\n",
       "    </tr>\n",
       "    <tr>\n",
       "      <th>2</th>\n",
       "      <td>Cefdinir</td>\n",
       "      <td>Cefdinir</td>\n",
       "    </tr>\n",
       "    <tr>\n",
       "      <th>3</th>\n",
       "      <td>Clopidogrel</td>\n",
       "      <td>Clopidogrel Bisulfate</td>\n",
       "    </tr>\n",
       "    <tr>\n",
       "      <th>4</th>\n",
       "      <td>Eliquis</td>\n",
       "      <td>Apixaban</td>\n",
       "    </tr>\n",
       "    <tr>\n",
       "      <th>...</th>\n",
       "      <td>...</td>\n",
       "      <td>...</td>\n",
       "    </tr>\n",
       "    <tr>\n",
       "      <th>1376</th>\n",
       "      <td>Cesamet</td>\n",
       "      <td>Nabilone</td>\n",
       "    </tr>\n",
       "    <tr>\n",
       "      <th>1377</th>\n",
       "      <td>Temsirolimus</td>\n",
       "      <td>Temsirolimus</td>\n",
       "    </tr>\n",
       "    <tr>\n",
       "      <th>1378</th>\n",
       "      <td>Solodyn</td>\n",
       "      <td>Minocycline Hcl</td>\n",
       "    </tr>\n",
       "    <tr>\n",
       "      <th>1379</th>\n",
       "      <td>Striant</td>\n",
       "      <td>Testosterone</td>\n",
       "    </tr>\n",
       "    <tr>\n",
       "      <th>1380</th>\n",
       "      <td>Adrucil</td>\n",
       "      <td>Fluorouracil</td>\n",
       "    </tr>\n",
       "  </tbody>\n",
       "</table>\n",
       "<p>1381 rows × 2 columns</p>\n",
       "</div>"
      ],
      "text/plain": [
       "            Brnd_Name              Gnrc_Name\n",
       "drug_id                                     \n",
       "0        Azithromycin           Azithromycin\n",
       "1          Carvedilol             Carvedilol\n",
       "2            Cefdinir               Cefdinir\n",
       "3         Clopidogrel  Clopidogrel Bisulfate\n",
       "4             Eliquis               Apixaban\n",
       "...               ...                    ...\n",
       "1376          Cesamet               Nabilone\n",
       "1377     Temsirolimus           Temsirolimus\n",
       "1378          Solodyn        Minocycline Hcl\n",
       "1379          Striant           Testosterone\n",
       "1380          Adrucil           Fluorouracil\n",
       "\n",
       "[1381 rows x 2 columns]"
      ]
     },
     "execution_count": 45,
     "metadata": {},
     "output_type": "execute_result"
    }
   ],
   "source": [
    "unique_drug_names_df"
   ]
  },
  {
   "cell_type": "markdown",
   "id": "352ca8e0",
   "metadata": {},
   "source": [
    "A generic name can have multiple brand names associated with it; we will use generic name as the drug identifier."
   ]
  },
  {
   "cell_type": "code",
   "execution_count": 47,
   "id": "1b611d2b",
   "metadata": {
    "scrolled": false
   },
   "outputs": [
    {
     "data": {
      "text/html": [
       "<div>\n",
       "<style scoped>\n",
       "    .dataframe tbody tr th:only-of-type {\n",
       "        vertical-align: middle;\n",
       "    }\n",
       "\n",
       "    .dataframe tbody tr th {\n",
       "        vertical-align: top;\n",
       "    }\n",
       "\n",
       "    .dataframe thead th {\n",
       "        text-align: right;\n",
       "    }\n",
       "</style>\n",
       "<table border=\"1\" class=\"dataframe\">\n",
       "  <thead>\n",
       "    <tr style=\"text-align: right;\">\n",
       "      <th></th>\n",
       "      <th>Brnd_Name</th>\n",
       "      <th>Gnrc_Name</th>\n",
       "    </tr>\n",
       "    <tr>\n",
       "      <th>drug_id</th>\n",
       "      <th></th>\n",
       "      <th></th>\n",
       "    </tr>\n",
       "  </thead>\n",
       "  <tbody>\n",
       "    <tr>\n",
       "      <th>0</th>\n",
       "      <td>Azithromycin</td>\n",
       "      <td>Azithromycin</td>\n",
       "    </tr>\n",
       "    <tr>\n",
       "      <th>714</th>\n",
       "      <td>Azasite</td>\n",
       "      <td>Azithromycin</td>\n",
       "    </tr>\n",
       "    <tr>\n",
       "      <th>1203</th>\n",
       "      <td>Zithromax</td>\n",
       "      <td>Azithromycin</td>\n",
       "    </tr>\n",
       "  </tbody>\n",
       "</table>\n",
       "</div>"
      ],
      "text/plain": [
       "            Brnd_Name     Gnrc_Name\n",
       "drug_id                            \n",
       "0        Azithromycin  Azithromycin\n",
       "714           Azasite  Azithromycin\n",
       "1203        Zithromax  Azithromycin"
      ]
     },
     "execution_count": 47,
     "metadata": {},
     "output_type": "execute_result"
    }
   ],
   "source": [
    "unique_drug_names_df[unique_drug_names_df['Gnrc_Name'] == 'Azithromycin']"
   ]
  },
  {
   "cell_type": "markdown",
   "id": "2a075058",
   "metadata": {},
   "source": [
    "### Write Formatted Dataset"
   ]
  },
  {
   "cell_type": "code",
   "execution_count": 48,
   "id": "5df3fe17",
   "metadata": {},
   "outputs": [],
   "source": [
    "unique_drug_names_df.to_csv(f'{data_dir}/output/drug-ids.tsv', index=False, sep='\\t')"
   ]
  },
  {
   "cell_type": "markdown",
   "id": "c3fbc386",
   "metadata": {},
   "source": [
    "# Prescriber Information"
   ]
  },
  {
   "cell_type": "markdown",
   "id": "2dbf17ae",
   "metadata": {},
   "source": [
    "### Extract prescriber entities"
   ]
  },
  {
   "cell_type": "code",
   "execution_count": 49,
   "id": "def9dbac",
   "metadata": {},
   "outputs": [],
   "source": [
    "prescriber_entities_df = filtered_prescriber_drug_names_df[['Prscrbr_NPI', 'Prscrbr_Last_Org_Name', 'Prscrbr_First_Name']].drop_duplicates()"
   ]
  },
  {
   "cell_type": "markdown",
   "id": "45f2de24",
   "metadata": {},
   "source": [
    "### Extract Prescriber Type"
   ]
  },
  {
   "cell_type": "code",
   "execution_count": 158,
   "id": "8ce5ae20",
   "metadata": {},
   "outputs": [],
   "source": [
    "prescriber_type_df = filtered_prescriber_drug_names_df[['Prscrbr_NPI', 'Prscrbr_Type']]"
   ]
  },
  {
   "cell_type": "code",
   "execution_count": 164,
   "id": "9c3de828",
   "metadata": {},
   "outputs": [],
   "source": [
    "unique_prescriber_type_df = prescriber_type_df['Prscrbr_Type'].drop_duplicates()"
   ]
  },
  {
   "cell_type": "markdown",
   "id": "cb515945",
   "metadata": {},
   "source": [
    "### Extract Prescriber Drug relation"
   ]
  },
  {
   "cell_type": "code",
   "execution_count": 50,
   "id": "f69b2b3a",
   "metadata": {},
   "outputs": [],
   "source": [
    "prescriber_drug_cost_edge_df = filtered_prescriber_drug_names_df[['Prscrbr_NPI', 'Gnrc_Name', 'Tot_Drug_Cst', 'GE65_Tot_Drug_Cst']]"
   ]
  },
  {
   "cell_type": "code",
   "execution_count": 51,
   "id": "3f73277a",
   "metadata": {
    "scrolled": true
   },
   "outputs": [
    {
     "data": {
      "text/html": [
       "<div>\n",
       "<style scoped>\n",
       "    .dataframe tbody tr th:only-of-type {\n",
       "        vertical-align: middle;\n",
       "    }\n",
       "\n",
       "    .dataframe tbody tr th {\n",
       "        vertical-align: top;\n",
       "    }\n",
       "\n",
       "    .dataframe thead th {\n",
       "        text-align: right;\n",
       "    }\n",
       "</style>\n",
       "<table border=\"1\" class=\"dataframe\">\n",
       "  <thead>\n",
       "    <tr style=\"text-align: right;\">\n",
       "      <th></th>\n",
       "      <th>Prscrbr_NPI</th>\n",
       "      <th>Prscrbr_Last_Org_Name</th>\n",
       "      <th>Prscrbr_First_Name</th>\n",
       "      <th>Prscrbr_Type</th>\n",
       "      <th>Brnd_Name</th>\n",
       "      <th>Gnrc_Name</th>\n",
       "      <th>Tot_Drug_Cst</th>\n",
       "      <th>GE65_Tot_Drug_Cst</th>\n",
       "    </tr>\n",
       "    <tr>\n",
       "      <th>drug_id</th>\n",
       "      <th></th>\n",
       "      <th></th>\n",
       "      <th></th>\n",
       "      <th></th>\n",
       "      <th></th>\n",
       "      <th></th>\n",
       "      <th></th>\n",
       "      <th></th>\n",
       "    </tr>\n",
       "  </thead>\n",
       "  <tbody>\n",
       "    <tr>\n",
       "      <th>3</th>\n",
       "      <td>1003000126</td>\n",
       "      <td>Enkeshafi</td>\n",
       "      <td>Ardalan</td>\n",
       "      <td>Internal Medicine</td>\n",
       "      <td>Azithromycin</td>\n",
       "      <td>Azithromycin</td>\n",
       "      <td>132.57</td>\n",
       "      <td>-1.00</td>\n",
       "    </tr>\n",
       "    <tr>\n",
       "      <th>4</th>\n",
       "      <td>1003000126</td>\n",
       "      <td>Enkeshafi</td>\n",
       "      <td>Ardalan</td>\n",
       "      <td>Internal Medicine</td>\n",
       "      <td>Carvedilol</td>\n",
       "      <td>Carvedilol</td>\n",
       "      <td>118.53</td>\n",
       "      <td>118.53</td>\n",
       "    </tr>\n",
       "    <tr>\n",
       "      <th>5</th>\n",
       "      <td>1003000126</td>\n",
       "      <td>Enkeshafi</td>\n",
       "      <td>Ardalan</td>\n",
       "      <td>Internal Medicine</td>\n",
       "      <td>Cefdinir</td>\n",
       "      <td>Cefdinir</td>\n",
       "      <td>203.03</td>\n",
       "      <td>-1.00</td>\n",
       "    </tr>\n",
       "    <tr>\n",
       "      <th>6</th>\n",
       "      <td>1003000126</td>\n",
       "      <td>Enkeshafi</td>\n",
       "      <td>Ardalan</td>\n",
       "      <td>Internal Medicine</td>\n",
       "      <td>Clopidogrel</td>\n",
       "      <td>Clopidogrel Bisulfate</td>\n",
       "      <td>172.04</td>\n",
       "      <td>172.04</td>\n",
       "    </tr>\n",
       "    <tr>\n",
       "      <th>8</th>\n",
       "      <td>1003000126</td>\n",
       "      <td>Enkeshafi</td>\n",
       "      <td>Ardalan</td>\n",
       "      <td>Internal Medicine</td>\n",
       "      <td>Eliquis</td>\n",
       "      <td>Apixaban</td>\n",
       "      <td>7234.67</td>\n",
       "      <td>-1.00</td>\n",
       "    </tr>\n",
       "    <tr>\n",
       "      <th>...</th>\n",
       "      <td>...</td>\n",
       "      <td>...</td>\n",
       "      <td>...</td>\n",
       "      <td>...</td>\n",
       "      <td>...</td>\n",
       "      <td>...</td>\n",
       "      <td>...</td>\n",
       "      <td>...</td>\n",
       "    </tr>\n",
       "    <tr>\n",
       "      <th>25401863</th>\n",
       "      <td>1992999833</td>\n",
       "      <td>Shaw</td>\n",
       "      <td>L. Noah</td>\n",
       "      <td>Psychoanalyst</td>\n",
       "      <td>Rytary</td>\n",
       "      <td>Carbidopa/Levodopa</td>\n",
       "      <td>19319.43</td>\n",
       "      <td>19319.43</td>\n",
       "    </tr>\n",
       "    <tr>\n",
       "      <th>25401866</th>\n",
       "      <td>1992999874</td>\n",
       "      <td>Joffe</td>\n",
       "      <td>Gabriella</td>\n",
       "      <td>Internal Medicine</td>\n",
       "      <td>Bumetanide</td>\n",
       "      <td>Bumetanide</td>\n",
       "      <td>433.17</td>\n",
       "      <td>-1.00</td>\n",
       "    </tr>\n",
       "    <tr>\n",
       "      <th>25401867</th>\n",
       "      <td>1992999874</td>\n",
       "      <td>Joffe</td>\n",
       "      <td>Gabriella</td>\n",
       "      <td>Internal Medicine</td>\n",
       "      <td>Carvedilol</td>\n",
       "      <td>Carvedilol</td>\n",
       "      <td>182.25</td>\n",
       "      <td>-1.00</td>\n",
       "    </tr>\n",
       "    <tr>\n",
       "      <th>25401868</th>\n",
       "      <td>1992999874</td>\n",
       "      <td>Joffe</td>\n",
       "      <td>Gabriella</td>\n",
       "      <td>Internal Medicine</td>\n",
       "      <td>Lisinopril</td>\n",
       "      <td>Lisinopril</td>\n",
       "      <td>101.19</td>\n",
       "      <td>-1.00</td>\n",
       "    </tr>\n",
       "    <tr>\n",
       "      <th>25401869</th>\n",
       "      <td>1992999874</td>\n",
       "      <td>Joffe</td>\n",
       "      <td>Gabriella</td>\n",
       "      <td>Internal Medicine</td>\n",
       "      <td>Prednisone</td>\n",
       "      <td>Prednisone</td>\n",
       "      <td>30.44</td>\n",
       "      <td>-1.00</td>\n",
       "    </tr>\n",
       "  </tbody>\n",
       "</table>\n",
       "<p>11661953 rows × 8 columns</p>\n",
       "</div>"
      ],
      "text/plain": [
       "          Prscrbr_NPI Prscrbr_Last_Org_Name Prscrbr_First_Name  \\\n",
       "drug_id                                                          \n",
       "3          1003000126             Enkeshafi            Ardalan   \n",
       "4          1003000126             Enkeshafi            Ardalan   \n",
       "5          1003000126             Enkeshafi            Ardalan   \n",
       "6          1003000126             Enkeshafi            Ardalan   \n",
       "8          1003000126             Enkeshafi            Ardalan   \n",
       "...               ...                   ...                ...   \n",
       "25401863   1992999833                  Shaw            L. Noah   \n",
       "25401866   1992999874                 Joffe          Gabriella   \n",
       "25401867   1992999874                 Joffe          Gabriella   \n",
       "25401868   1992999874                 Joffe          Gabriella   \n",
       "25401869   1992999874                 Joffe          Gabriella   \n",
       "\n",
       "               Prscrbr_Type     Brnd_Name              Gnrc_Name  \\\n",
       "drug_id                                                            \n",
       "3         Internal Medicine  Azithromycin           Azithromycin   \n",
       "4         Internal Medicine    Carvedilol             Carvedilol   \n",
       "5         Internal Medicine      Cefdinir               Cefdinir   \n",
       "6         Internal Medicine   Clopidogrel  Clopidogrel Bisulfate   \n",
       "8         Internal Medicine       Eliquis               Apixaban   \n",
       "...                     ...           ...                    ...   \n",
       "25401863      Psychoanalyst        Rytary     Carbidopa/Levodopa   \n",
       "25401866  Internal Medicine    Bumetanide             Bumetanide   \n",
       "25401867  Internal Medicine    Carvedilol             Carvedilol   \n",
       "25401868  Internal Medicine    Lisinopril             Lisinopril   \n",
       "25401869  Internal Medicine    Prednisone             Prednisone   \n",
       "\n",
       "          Tot_Drug_Cst  GE65_Tot_Drug_Cst  \n",
       "drug_id                                    \n",
       "3               132.57              -1.00  \n",
       "4               118.53             118.53  \n",
       "5               203.03              -1.00  \n",
       "6               172.04             172.04  \n",
       "8              7234.67              -1.00  \n",
       "...                ...                ...  \n",
       "25401863      19319.43           19319.43  \n",
       "25401866        433.17              -1.00  \n",
       "25401867        182.25              -1.00  \n",
       "25401868        101.19              -1.00  \n",
       "25401869         30.44              -1.00  \n",
       "\n",
       "[11661953 rows x 8 columns]"
      ]
     },
     "execution_count": 51,
     "metadata": {},
     "output_type": "execute_result"
    }
   ],
   "source": [
    "filtered_prescriber_drug_names_df"
   ]
  },
  {
   "cell_type": "markdown",
   "id": "da33b4e7",
   "metadata": {},
   "source": [
    "### Write Formatted Dataset"
   ]
  },
  {
   "cell_type": "code",
   "execution_count": 53,
   "id": "8d5b5c50",
   "metadata": {},
   "outputs": [],
   "source": [
    "prescriber_entities_df.to_csv(f'{data_dir}/output/prescriber.tsv', index=False, sep='\\t')\n",
    "prescriber_type_df.to_csv(f'{data_dir}/output/prescriber-type.tsv', index=False, sep='\\t')\n",
    "unique_prescriber_type_df.to_csv(f'{data_dir}/output/unique_prescriber_type.tsv', index=False, sep='\\t')\n",
    "prescriber_drug_cost_edge_df.to_csv(f'{data_dir}/output/prescriber-drug.tsv', index=False, sep='\\t')"
   ]
  },
  {
   "cell_type": "code",
   "execution_count": 169,
   "id": "91f2a9cf",
   "metadata": {},
   "outputs": [
    {
     "data": {
      "text/html": [
       "<div>\n",
       "<style scoped>\n",
       "    .dataframe tbody tr th:only-of-type {\n",
       "        vertical-align: middle;\n",
       "    }\n",
       "\n",
       "    .dataframe tbody tr th {\n",
       "        vertical-align: top;\n",
       "    }\n",
       "\n",
       "    .dataframe thead th {\n",
       "        text-align: right;\n",
       "    }\n",
       "</style>\n",
       "<table border=\"1\" class=\"dataframe\">\n",
       "  <thead>\n",
       "    <tr style=\"text-align: right;\">\n",
       "      <th></th>\n",
       "      <th>Prscrbr_NPI</th>\n",
       "      <th>Gnrc_Name</th>\n",
       "      <th>Tot_Drug_Cst</th>\n",
       "      <th>GE65_Tot_Drug_Cst</th>\n",
       "    </tr>\n",
       "    <tr>\n",
       "      <th>drug_id</th>\n",
       "      <th></th>\n",
       "      <th></th>\n",
       "      <th></th>\n",
       "      <th></th>\n",
       "    </tr>\n",
       "  </thead>\n",
       "  <tbody>\n",
       "    <tr>\n",
       "      <th>3</th>\n",
       "      <td>1003000126</td>\n",
       "      <td>Azithromycin</td>\n",
       "      <td>132.57</td>\n",
       "      <td>-1.00</td>\n",
       "    </tr>\n",
       "    <tr>\n",
       "      <th>4</th>\n",
       "      <td>1003000126</td>\n",
       "      <td>Carvedilol</td>\n",
       "      <td>118.53</td>\n",
       "      <td>118.53</td>\n",
       "    </tr>\n",
       "    <tr>\n",
       "      <th>5</th>\n",
       "      <td>1003000126</td>\n",
       "      <td>Cefdinir</td>\n",
       "      <td>203.03</td>\n",
       "      <td>-1.00</td>\n",
       "    </tr>\n",
       "    <tr>\n",
       "      <th>6</th>\n",
       "      <td>1003000126</td>\n",
       "      <td>Clopidogrel Bisulfate</td>\n",
       "      <td>172.04</td>\n",
       "      <td>172.04</td>\n",
       "    </tr>\n",
       "    <tr>\n",
       "      <th>8</th>\n",
       "      <td>1003000126</td>\n",
       "      <td>Apixaban</td>\n",
       "      <td>7234.67</td>\n",
       "      <td>-1.00</td>\n",
       "    </tr>\n",
       "    <tr>\n",
       "      <th>...</th>\n",
       "      <td>...</td>\n",
       "      <td>...</td>\n",
       "      <td>...</td>\n",
       "      <td>...</td>\n",
       "    </tr>\n",
       "    <tr>\n",
       "      <th>25401863</th>\n",
       "      <td>1992999833</td>\n",
       "      <td>Carbidopa/Levodopa</td>\n",
       "      <td>19319.43</td>\n",
       "      <td>19319.43</td>\n",
       "    </tr>\n",
       "    <tr>\n",
       "      <th>25401866</th>\n",
       "      <td>1992999874</td>\n",
       "      <td>Bumetanide</td>\n",
       "      <td>433.17</td>\n",
       "      <td>-1.00</td>\n",
       "    </tr>\n",
       "    <tr>\n",
       "      <th>25401867</th>\n",
       "      <td>1992999874</td>\n",
       "      <td>Carvedilol</td>\n",
       "      <td>182.25</td>\n",
       "      <td>-1.00</td>\n",
       "    </tr>\n",
       "    <tr>\n",
       "      <th>25401868</th>\n",
       "      <td>1992999874</td>\n",
       "      <td>Lisinopril</td>\n",
       "      <td>101.19</td>\n",
       "      <td>-1.00</td>\n",
       "    </tr>\n",
       "    <tr>\n",
       "      <th>25401869</th>\n",
       "      <td>1992999874</td>\n",
       "      <td>Prednisone</td>\n",
       "      <td>30.44</td>\n",
       "      <td>-1.00</td>\n",
       "    </tr>\n",
       "  </tbody>\n",
       "</table>\n",
       "<p>11661993 rows × 4 columns</p>\n",
       "</div>"
      ],
      "text/plain": [
       "          Prscrbr_NPI              Gnrc_Name  Tot_Drug_Cst  GE65_Tot_Drug_Cst\n",
       "drug_id                                                                      \n",
       "3          1003000126           Azithromycin        132.57              -1.00\n",
       "4          1003000126             Carvedilol        118.53             118.53\n",
       "5          1003000126               Cefdinir        203.03              -1.00\n",
       "6          1003000126  Clopidogrel Bisulfate        172.04             172.04\n",
       "8          1003000126               Apixaban       7234.67              -1.00\n",
       "...               ...                    ...           ...                ...\n",
       "25401863   1992999833     Carbidopa/Levodopa      19319.43           19319.43\n",
       "25401866   1992999874             Bumetanide        433.17              -1.00\n",
       "25401867   1992999874             Carvedilol        182.25              -1.00\n",
       "25401868   1992999874             Lisinopril        101.19              -1.00\n",
       "25401869   1992999874             Prednisone         30.44              -1.00\n",
       "\n",
       "[11661993 rows x 4 columns]"
      ]
     },
     "execution_count": 169,
     "metadata": {},
     "output_type": "execute_result"
    }
   ],
   "source": [
    "prescriber_drug_cost_edge_df"
   ]
  },
  {
   "cell_type": "markdown",
   "id": "0ccda6a6",
   "metadata": {},
   "source": [
    "# Disease Info"
   ]
  },
  {
   "cell_type": "markdown",
   "id": "569719cf",
   "metadata": {},
   "source": [
    "### Get unique disease/condition names from ratings file"
   ]
  },
  {
   "cell_type": "code",
   "execution_count": 54,
   "id": "9cf491d4",
   "metadata": {},
   "outputs": [],
   "source": [
    "conditions_df = drug_ratings_df['condition'].drop_duplicates()\n",
    "conditions_df.to_csv(f'{data_dir}/output/disease-names.tsv', index=False, sep='\\t')"
   ]
  },
  {
   "cell_type": "markdown",
   "id": "09967610",
   "metadata": {},
   "source": [
    "# Rating/Review Info"
   ]
  },
  {
   "cell_type": "code",
   "execution_count": 56,
   "id": "e5672a87",
   "metadata": {},
   "outputs": [
    {
     "data": {
      "text/html": [
       "<div>\n",
       "<style scoped>\n",
       "    .dataframe tbody tr th:only-of-type {\n",
       "        vertical-align: middle;\n",
       "    }\n",
       "\n",
       "    .dataframe tbody tr th {\n",
       "        vertical-align: top;\n",
       "    }\n",
       "\n",
       "    .dataframe thead th {\n",
       "        text-align: right;\n",
       "    }\n",
       "</style>\n",
       "<table border=\"1\" class=\"dataframe\">\n",
       "  <thead>\n",
       "    <tr style=\"text-align: right;\">\n",
       "      <th></th>\n",
       "      <th>drugName</th>\n",
       "      <th>condition</th>\n",
       "      <th>review</th>\n",
       "      <th>rating</th>\n",
       "      <th>date</th>\n",
       "      <th>Gnrc_Name</th>\n",
       "    </tr>\n",
       "    <tr>\n",
       "      <th>review_id</th>\n",
       "      <th></th>\n",
       "      <th></th>\n",
       "      <th></th>\n",
       "      <th></th>\n",
       "      <th></th>\n",
       "      <th></th>\n",
       "    </tr>\n",
       "  </thead>\n",
       "  <tbody>\n",
       "    <tr>\n",
       "      <th>0</th>\n",
       "      <td>Valsartan</td>\n",
       "      <td>Left Ventricular Dysfunction</td>\n",
       "      <td>\"It has no side effect, I take it in combination of Bystolic 5 Mg and Fish Oil\"</td>\n",
       "      <td>9.0</td>\n",
       "      <td>May 20, 2012</td>\n",
       "      <td>Valsartan</td>\n",
       "    </tr>\n",
       "    <tr>\n",
       "      <th>1</th>\n",
       "      <td>Cialis</td>\n",
       "      <td>Benign Prostatic Hyperplasia</td>\n",
       "      <td>\"2nd day on 5mg started to work with rock hard erections however experianced headache, lower bowel preassure. 3rd day erections would wake me up &amp;amp; hurt! Leg/ankles aches   severe lower bowel preassure like you need to go #2 but can&amp;#039;t! Enjoyed the initial rockhard erections but not at these side effects or $230 for months supply! I&amp;#039;m 50 &amp;amp; work out 3Xs a week. Not worth side effects!\"</td>\n",
       "      <td>2.0</td>\n",
       "      <td>November 28, 2015</td>\n",
       "      <td>Tadalafil</td>\n",
       "    </tr>\n",
       "  </tbody>\n",
       "</table>\n",
       "</div>"
      ],
      "text/plain": [
       "            drugName                     condition  \\\n",
       "review_id                                            \n",
       "0          Valsartan  Left Ventricular Dysfunction   \n",
       "1             Cialis  Benign Prostatic Hyperplasia   \n",
       "\n",
       "                                                                                                                                                                                                                                                                                                                                                                                                                        review  \\\n",
       "review_id                                                                                                                                                                                                                                                                                                                                                                                                                        \n",
       "0                                                                                                                                                                                                                                                                                                                                              \"It has no side effect, I take it in combination of Bystolic 5 Mg and Fish Oil\"   \n",
       "1          \"2nd day on 5mg started to work with rock hard erections however experianced headache, lower bowel preassure. 3rd day erections would wake me up &amp; hurt! Leg/ankles aches   severe lower bowel preassure like you need to go #2 but can&#039;t! Enjoyed the initial rockhard erections but not at these side effects or $230 for months supply! I&#039;m 50 &amp; work out 3Xs a week. Not worth side effects!\"   \n",
       "\n",
       "           rating               date  Gnrc_Name  \n",
       "review_id                                        \n",
       "0             9.0       May 20, 2012  Valsartan  \n",
       "1             2.0  November 28, 2015  Tadalafil  "
      ]
     },
     "execution_count": 56,
     "metadata": {},
     "output_type": "execute_result"
    }
   ],
   "source": [
    "ratings_with_gnrc_df = pysqldf(\"select distinct a.*, b.Gnrc_Name from drug_ratings_df as a join unique_drug_names_df as b on a.drugName = b.Brnd_Name or a.drugName = b.Gnrc_Name\")\n",
    "ratings_with_gnrc_df.index.name = \"review_id\"\n",
    "ratings_with_gnrc_df.iloc[:2]"
   ]
  },
  {
   "cell_type": "markdown",
   "id": "e136cf97",
   "metadata": {},
   "source": [
    "### Get drug-disease (used_for) edges"
   ]
  },
  {
   "cell_type": "code",
   "execution_count": 58,
   "id": "65eb216e",
   "metadata": {},
   "outputs": [],
   "source": [
    "used_for_df = ratings_with_gnrc_df[['Gnrc_Name', 'condition']].drop_duplicates()"
   ]
  },
  {
   "cell_type": "markdown",
   "id": "025af88b",
   "metadata": {},
   "source": [
    "### Get review vertices"
   ]
  },
  {
   "cell_type": "code",
   "execution_count": 59,
   "id": "b55497b9",
   "metadata": {},
   "outputs": [
    {
     "name": "stdout",
     "output_type": "stream",
     "text": [
      "(91047, 3)\n"
     ]
    },
    {
     "data": {
      "text/html": [
       "<div>\n",
       "<style scoped>\n",
       "    .dataframe tbody tr th:only-of-type {\n",
       "        vertical-align: middle;\n",
       "    }\n",
       "\n",
       "    .dataframe tbody tr th {\n",
       "        vertical-align: top;\n",
       "    }\n",
       "\n",
       "    .dataframe thead th {\n",
       "        text-align: right;\n",
       "    }\n",
       "</style>\n",
       "<table border=\"1\" class=\"dataframe\">\n",
       "  <thead>\n",
       "    <tr style=\"text-align: right;\">\n",
       "      <th></th>\n",
       "      <th>review</th>\n",
       "      <th>rating</th>\n",
       "      <th>date</th>\n",
       "    </tr>\n",
       "    <tr>\n",
       "      <th>review_id</th>\n",
       "      <th></th>\n",
       "      <th></th>\n",
       "      <th></th>\n",
       "    </tr>\n",
       "  </thead>\n",
       "  <tbody>\n",
       "    <tr>\n",
       "      <th>0</th>\n",
       "      <td>\"It has no side effect, I take it in combination of Bystolic 5 Mg and Fish Oil\"</td>\n",
       "      <td>9.0</td>\n",
       "      <td>May 20, 2012</td>\n",
       "    </tr>\n",
       "    <tr>\n",
       "      <th>1</th>\n",
       "      <td>\"2nd day on 5mg started to work with rock hard erections however experianced headache, lower bowel preassure. 3rd day erections would wake me up &amp;amp; hurt! Leg/ankles aches   severe lower bowel preassure like you need to go #2 but can&amp;#039;t! Enjoyed the initial rockhard erections but not at these side effects or $230 for months supply! I&amp;#039;m 50 &amp;amp; work out 3Xs a week. Not worth side effects!\"</td>\n",
       "      <td>2.0</td>\n",
       "      <td>November 28, 2015</td>\n",
       "    </tr>\n",
       "  </tbody>\n",
       "</table>\n",
       "</div>"
      ],
      "text/plain": [
       "                                                                                                                                                                                                                                                                                                                                                                                                                        review  \\\n",
       "review_id                                                                                                                                                                                                                                                                                                                                                                                                                        \n",
       "0                                                                                                                                                                                                                                                                                                                                              \"It has no side effect, I take it in combination of Bystolic 5 Mg and Fish Oil\"   \n",
       "1          \"2nd day on 5mg started to work with rock hard erections however experianced headache, lower bowel preassure. 3rd day erections would wake me up &amp; hurt! Leg/ankles aches   severe lower bowel preassure like you need to go #2 but can&#039;t! Enjoyed the initial rockhard erections but not at these side effects or $230 for months supply! I&#039;m 50 &amp; work out 3Xs a week. Not worth side effects!\"   \n",
       "\n",
       "           rating               date  \n",
       "review_id                             \n",
       "0             9.0       May 20, 2012  \n",
       "1             2.0  November 28, 2015  "
      ]
     },
     "execution_count": 59,
     "metadata": {},
     "output_type": "execute_result"
    }
   ],
   "source": [
    "reviews_df = ratings_with_gnrc_df[['review', 'rating', 'date']]\n",
    "reviews_df.index.name = \"review_id\"\n",
    "\n",
    "print(reviews_df.shape)\n",
    "reviews_df.iloc[:2]"
   ]
  },
  {
   "cell_type": "markdown",
   "id": "2969ea5c",
   "metadata": {},
   "source": [
    "### Get review edges"
   ]
  },
  {
   "cell_type": "code",
   "execution_count": 60,
   "id": "2a866e60",
   "metadata": {
    "scrolled": true
   },
   "outputs": [
    {
     "name": "stdout",
     "output_type": "stream",
     "text": [
      "review_id\n",
      "0                            Valsartan\n",
      "1                            Tadalafil\n",
      "2                         Aripiprazole\n",
      "3                        Levetiracetam\n",
      "4                           Topiramate\n",
      "                     ...              \n",
      "91042             Varenicline Tartrate\n",
      "91043                    Levetiracetam\n",
      "91044                     Levofloxacin\n",
      "91045                      Armodafinil\n",
      "91046    Desogestrel-Ethinyl Estradiol\n",
      "Name: Gnrc_Name, Length: 91047, dtype: object\n",
      "review_id\n",
      "0        Left Ventricular Dysfunction\n",
      "1        Benign Prostatic Hyperplasia\n",
      "2                     Bipolar Disorde\n",
      "3                            Epilepsy\n",
      "4                 Migraine Prevention\n",
      "                     ...             \n",
      "91042               Smoking Cessation\n",
      "91043                        Epilepsy\n",
      "91044                      Bronchitis\n",
      "91045                      Narcolepsy\n",
      "91046                   Birth Control\n",
      "Name: condition, Length: 91047, dtype: object\n"
     ]
    }
   ],
   "source": [
    "# review drug edge (has_review)\n",
    "review_drug_df = ratings_with_gnrc_df['Gnrc_Name']\n",
    "\n",
    "# review disease edge (associated with)\n",
    "review_disease_df = ratings_with_gnrc_df['condition']\n",
    "\n",
    "print(review_drug_df)\n",
    "print(review_disease_df)"
   ]
  },
  {
   "cell_type": "markdown",
   "id": "a618d3e2",
   "metadata": {},
   "source": [
    "### Write Formatted Data"
   ]
  },
  {
   "cell_type": "code",
   "execution_count": 61,
   "id": "3e446530",
   "metadata": {},
   "outputs": [],
   "source": [
    "used_for_df.to_csv(f'{data_dir}/output/drug-disease.tsv', index=False, sep='\\t')\n",
    "reviews_df.to_csv(f'{data_dir}/output/review.tsv', index=True, sep='\\t')\n",
    "review_drug_df.to_csv(f'{data_dir}/output/drug-review.tsv', index=True, sep='\\t')\n",
    "review_disease_df.to_csv(f'{data_dir}/output/disease-review.tsv', index=True, sep='\\t')"
   ]
  }
 ],
 "metadata": {
  "kernelspec": {
   "display_name": "Python [conda env:gradient]",
   "language": "python",
   "name": "conda-env-gradient-py"
  },
  "language_info": {
   "codemirror_mode": {
    "name": "ipython",
    "version": 3
   },
   "file_extension": ".py",
   "mimetype": "text/x-python",
   "name": "python",
   "nbconvert_exporter": "python",
   "pygments_lexer": "ipython3",
   "version": "3.9.12"
  }
 },
 "nbformat": 4,
 "nbformat_minor": 5
}
